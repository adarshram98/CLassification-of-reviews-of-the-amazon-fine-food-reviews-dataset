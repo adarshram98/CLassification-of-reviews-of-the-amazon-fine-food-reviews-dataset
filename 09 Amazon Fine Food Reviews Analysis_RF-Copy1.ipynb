{
 "cells": [
  {
   "cell_type": "markdown",
   "metadata": {
    "colab_type": "text",
    "heading_collapsed": true,
    "id": "pI2r_SRyLs2H"
   },
   "source": [
    "# Amazon Fine Food Reviews Analysis\n",
    "\n",
    "\n",
    "Data Source: https://www.kaggle.com/snap/amazon-fine-food-reviews <br>\n",
    "\n",
    "EDA: https://nycdatascience.com/blog/student-works/amazon-fine-foods-visualization/\n",
    "\n",
    "\n",
    "The Amazon Fine Food Reviews dataset consists of reviews of fine foods from Amazon.<br>\n",
    "\n",
    "Number of reviews: 568,454<br>\n",
    "Number of users: 256,059<br>\n",
    "Number of products: 74,258<br>\n",
    "Timespan: Oct 1999 - Oct 2012<br>\n",
    "Number of Attributes/Columns in data: 10 \n",
    "\n",
    "Attribute Information:\n",
    "\n",
    "1. Id\n",
    "2. ProductId - unique identifier for the product\n",
    "3. UserId - unqiue identifier for the user\n",
    "4. ProfileName\n",
    "5. HelpfulnessNumerator - number of users who found the review helpful\n",
    "6. HelpfulnessDenominator - number of users who indicated whether they found the review helpful or not\n",
    "7. Score - rating between 1 and 5\n",
    "8. Time - timestamp for the review\n",
    "9. Summary - brief summary of the review\n",
    "10. Text - text of the review\n",
    "\n",
    "\n",
    "#### Objective:\n",
    "Given a review, determine whether the review is positive (rating of 4 or 5) or negative (rating of 1 or 2).\n",
    "\n",
    "<br>\n",
    "[Q] How to determine if a review is positive or negative?<br>\n",
    "<br> \n",
    "[Ans] We could use Score/Rating. A rating of 4 or 5 can be cosnidered as a positive review. A rating of 1 or 2 can be considered as negative one. A review of rating 3 is considered nuetral and such reviews are ignored from our analysis. This is an approximate and proxy way of determining the polarity (positivity/negativity) of a review.\n",
    "\n",
    "\n"
   ]
  },
  {
   "cell_type": "markdown",
   "metadata": {
    "colab_type": "text",
    "id": "_qeGSFEELs2L"
   },
   "source": [
    "# [1]. Reading Data"
   ]
  },
  {
   "cell_type": "markdown",
   "metadata": {
    "colab_type": "text",
    "id": "B54glUYgLs2N"
   },
   "source": [
    "## [1.1] Loading the data\n",
    "\n",
    "The dataset is available in two forms\n",
    "1. .csv file\n",
    "2. SQLite Database\n",
    "\n",
    "In order to load the data, We have used the SQLITE dataset as it is easier to query the data and visualise the data efficiently.\n",
    "<br> \n",
    "\n",
    "Here as we only want to get the global sentiment of the recommendations (positive or negative), we will purposefully ignore all Scores equal to 3. If the score is above 3, then the recommendation wil be set to \"positive\". Otherwise, it will be set to \"negative\"."
   ]
  },
  {
   "cell_type": "code",
   "execution_count": 1,
   "metadata": {
    "ExecuteTime": {
     "end_time": "2019-07-02T16:34:34.313776Z",
     "start_time": "2019-07-02T16:34:28.194094Z"
    },
    "colab": {},
    "colab_type": "code",
    "id": "TKX2L4tCLs2Q"
   },
   "outputs": [
    {
     "name": "stderr",
     "output_type": "stream",
     "text": [
      "C:\\Users\\adars\\Anaconda3\\lib\\site-packages\\gensim\\utils.py:1197: UserWarning: detected Windows; aliasing chunkize to chunkize_serial\n",
      "  warnings.warn(\"detected Windows; aliasing chunkize to chunkize_serial\")\n"
     ]
    }
   ],
   "source": [
    "%matplotlib inline\n",
    "import warnings\n",
    "warnings.filterwarnings(\"ignore\")\n",
    "\n",
    "\n",
    "import sqlite3\n",
    "import pandas as pd\n",
    "import numpy as np\n",
    "import nltk\n",
    "import string\n",
    "import matplotlib.pyplot as plt\n",
    "import seaborn as sns\n",
    "from sklearn.feature_extraction.text import TfidfTransformer\n",
    "from sklearn.feature_extraction.text import TfidfVectorizer\n",
    "\n",
    "from sklearn.feature_extraction.text import CountVectorizer\n",
    "from sklearn.metrics import confusion_matrix\n",
    "from sklearn import metrics\n",
    "from sklearn.metrics import roc_curve, auc\n",
    "from nltk.stem.porter import PorterStemmer\n",
    "\n",
    "import re\n",
    "# Tutorial about Python regular expressions: https://pymotw.com/2/re/\n",
    "import string\n",
    "from nltk.corpus import stopwords\n",
    "from nltk.stem import PorterStemmer\n",
    "from nltk.stem.wordnet import WordNetLemmatizer\n",
    "\n",
    "from gensim.models import Word2Vec\n",
    "from gensim.models import KeyedVectors\n",
    "import pickle\n",
    "\n",
    "from tqdm import tqdm\n",
    "import os"
   ]
  },
  {
   "cell_type": "code",
   "execution_count": 2,
   "metadata": {
    "ExecuteTime": {
     "end_time": "2019-07-02T16:34:35.698478Z",
     "start_time": "2019-07-02T16:34:34.314742Z"
    },
    "colab": {},
    "colab_type": "code",
    "id": "MvHf1f__Ls2Y",
    "outputId": "1408ff98-6d6b-4d96-9364-8c7ab720112f"
   },
   "outputs": [
    {
     "name": "stdout",
     "output_type": "stream",
     "text": [
      "Number of data points in our data (100000, 10)\n"
     ]
    },
    {
     "data": {
      "text/html": [
       "<div>\n",
       "<style scoped>\n",
       "    .dataframe tbody tr th:only-of-type {\n",
       "        vertical-align: middle;\n",
       "    }\n",
       "\n",
       "    .dataframe tbody tr th {\n",
       "        vertical-align: top;\n",
       "    }\n",
       "\n",
       "    .dataframe thead th {\n",
       "        text-align: right;\n",
       "    }\n",
       "</style>\n",
       "<table border=\"1\" class=\"dataframe\">\n",
       "  <thead>\n",
       "    <tr style=\"text-align: right;\">\n",
       "      <th></th>\n",
       "      <th>Id</th>\n",
       "      <th>ProductId</th>\n",
       "      <th>UserId</th>\n",
       "      <th>ProfileName</th>\n",
       "      <th>HelpfulnessNumerator</th>\n",
       "      <th>HelpfulnessDenominator</th>\n",
       "      <th>Score</th>\n",
       "      <th>Time</th>\n",
       "      <th>Summary</th>\n",
       "      <th>Text</th>\n",
       "    </tr>\n",
       "  </thead>\n",
       "  <tbody>\n",
       "    <tr>\n",
       "      <th>0</th>\n",
       "      <td>1</td>\n",
       "      <td>B001E4KFG0</td>\n",
       "      <td>A3SGXH7AUHU8GW</td>\n",
       "      <td>delmartian</td>\n",
       "      <td>1</td>\n",
       "      <td>1</td>\n",
       "      <td>1</td>\n",
       "      <td>1303862400</td>\n",
       "      <td>Good Quality Dog Food</td>\n",
       "      <td>I have bought several of the Vitality canned d...</td>\n",
       "    </tr>\n",
       "    <tr>\n",
       "      <th>1</th>\n",
       "      <td>2</td>\n",
       "      <td>B00813GRG4</td>\n",
       "      <td>A1D87F6ZCVE5NK</td>\n",
       "      <td>dll pa</td>\n",
       "      <td>0</td>\n",
       "      <td>0</td>\n",
       "      <td>0</td>\n",
       "      <td>1346976000</td>\n",
       "      <td>Not as Advertised</td>\n",
       "      <td>Product arrived labeled as Jumbo Salted Peanut...</td>\n",
       "    </tr>\n",
       "    <tr>\n",
       "      <th>2</th>\n",
       "      <td>3</td>\n",
       "      <td>B000LQOCH0</td>\n",
       "      <td>ABXLMWJIXXAIN</td>\n",
       "      <td>Natalia Corres \"Natalia Corres\"</td>\n",
       "      <td>1</td>\n",
       "      <td>1</td>\n",
       "      <td>1</td>\n",
       "      <td>1219017600</td>\n",
       "      <td>\"Delight\" says it all</td>\n",
       "      <td>This is a confection that has been around a fe...</td>\n",
       "    </tr>\n",
       "  </tbody>\n",
       "</table>\n",
       "</div>"
      ],
      "text/plain": [
       "   Id   ProductId          UserId                      ProfileName  \\\n",
       "0   1  B001E4KFG0  A3SGXH7AUHU8GW                       delmartian   \n",
       "1   2  B00813GRG4  A1D87F6ZCVE5NK                           dll pa   \n",
       "2   3  B000LQOCH0   ABXLMWJIXXAIN  Natalia Corres \"Natalia Corres\"   \n",
       "\n",
       "   HelpfulnessNumerator  HelpfulnessDenominator  Score        Time  \\\n",
       "0                     1                       1      1  1303862400   \n",
       "1                     0                       0      0  1346976000   \n",
       "2                     1                       1      1  1219017600   \n",
       "\n",
       "                 Summary                                               Text  \n",
       "0  Good Quality Dog Food  I have bought several of the Vitality canned d...  \n",
       "1      Not as Advertised  Product arrived labeled as Jumbo Salted Peanut...  \n",
       "2  \"Delight\" says it all  This is a confection that has been around a fe...  "
      ]
     },
     "execution_count": 2,
     "metadata": {},
     "output_type": "execute_result"
    }
   ],
   "source": [
    "# using SQLite Table to read data.\n",
    "con = sqlite3.connect('database.sqlite')\n",
    "\n",
    "# filtering only positive and negative reviews i.e.\n",
    "# not taking into consideration those reviews with Score=3\n",
    "# SELECT * FROM Reviews WHERE Score != 3 LIMIT 500000, will give top 500000 data points\n",
    "# you can change the number to any other number based on your computing power\n",
    "\n",
    "# filtered_data = pd.read_sql_query(\"\"\" SELECT * FROM Reviews WHERE Score != 3 LIMIT 500000\"\"\", con)\n",
    "# for tsne assignment you can take 5k data points\n",
    "\n",
    "filtered_data = pd.read_sql_query(\n",
    "    \"\"\" SELECT * FROM Reviews WHERE Score != 3 LIMIT 100000\"\"\", con)\n",
    "\n",
    "# Give reviews with Score>3 a positive rating(1), and reviews with a score<3 a negative rating(0).\n",
    "\n",
    "\n",
    "def partition(x):\n",
    "    if x < 3:\n",
    "        return 0\n",
    "    return 1\n",
    "\n",
    "\n",
    "# changing reviews with score less than 3 to be positive and vice-versa\n",
    "actualScore = filtered_data['Score']\n",
    "positiveNegative = actualScore.map(partition)\n",
    "filtered_data['Score'] = positiveNegative\n",
    "print(\"Number of data points in our data\", filtered_data.shape)\n",
    "filtered_data.head(3)"
   ]
  },
  {
   "cell_type": "code",
   "execution_count": 3,
   "metadata": {
    "ExecuteTime": {
     "end_time": "2019-07-02T16:34:42.185849Z",
     "start_time": "2019-07-02T16:34:35.699476Z"
    },
    "colab": {},
    "colab_type": "code",
    "id": "f34vIYWxLs2h"
   },
   "outputs": [],
   "source": [
    "display = pd.read_sql_query(\"\"\"\n",
    "SELECT UserId, ProductId, ProfileName, Time, Score, Text, COUNT(*)\n",
    "FROM Reviews\n",
    "GROUP BY UserId\n",
    "HAVING COUNT(*)>1\n",
    "\"\"\", con)"
   ]
  },
  {
   "cell_type": "code",
   "execution_count": 4,
   "metadata": {
    "ExecuteTime": {
     "end_time": "2019-07-02T16:34:42.198771Z",
     "start_time": "2019-07-02T16:34:42.186835Z"
    },
    "colab": {},
    "colab_type": "code",
    "id": "sooYlfVTLs2l",
    "outputId": "bf01c0e6-128a-44e9-b3c1-4a1acd04ebac",
    "scrolled": true
   },
   "outputs": [
    {
     "name": "stdout",
     "output_type": "stream",
     "text": [
      "(80668, 7)\n"
     ]
    },
    {
     "data": {
      "text/html": [
       "<div>\n",
       "<style scoped>\n",
       "    .dataframe tbody tr th:only-of-type {\n",
       "        vertical-align: middle;\n",
       "    }\n",
       "\n",
       "    .dataframe tbody tr th {\n",
       "        vertical-align: top;\n",
       "    }\n",
       "\n",
       "    .dataframe thead th {\n",
       "        text-align: right;\n",
       "    }\n",
       "</style>\n",
       "<table border=\"1\" class=\"dataframe\">\n",
       "  <thead>\n",
       "    <tr style=\"text-align: right;\">\n",
       "      <th></th>\n",
       "      <th>UserId</th>\n",
       "      <th>ProductId</th>\n",
       "      <th>ProfileName</th>\n",
       "      <th>Time</th>\n",
       "      <th>Score</th>\n",
       "      <th>Text</th>\n",
       "      <th>COUNT(*)</th>\n",
       "    </tr>\n",
       "  </thead>\n",
       "  <tbody>\n",
       "    <tr>\n",
       "      <th>0</th>\n",
       "      <td>#oc-R115TNMSPFT9I7</td>\n",
       "      <td>B005ZBZLT4</td>\n",
       "      <td>Breyton</td>\n",
       "      <td>1331510400</td>\n",
       "      <td>2</td>\n",
       "      <td>Overall its just OK when considering the price...</td>\n",
       "      <td>2</td>\n",
       "    </tr>\n",
       "    <tr>\n",
       "      <th>1</th>\n",
       "      <td>#oc-R11D9D7SHXIJB9</td>\n",
       "      <td>B005HG9ESG</td>\n",
       "      <td>Louis E. Emory \"hoppy\"</td>\n",
       "      <td>1342396800</td>\n",
       "      <td>5</td>\n",
       "      <td>My wife has recurring extreme muscle spasms, u...</td>\n",
       "      <td>3</td>\n",
       "    </tr>\n",
       "    <tr>\n",
       "      <th>2</th>\n",
       "      <td>#oc-R11DNU2NBKQ23Z</td>\n",
       "      <td>B005ZBZLT4</td>\n",
       "      <td>Kim Cieszykowski</td>\n",
       "      <td>1348531200</td>\n",
       "      <td>1</td>\n",
       "      <td>This coffee is horrible and unfortunately not ...</td>\n",
       "      <td>2</td>\n",
       "    </tr>\n",
       "    <tr>\n",
       "      <th>3</th>\n",
       "      <td>#oc-R11O5J5ZVQE25C</td>\n",
       "      <td>B005HG9ESG</td>\n",
       "      <td>Penguin Chick</td>\n",
       "      <td>1346889600</td>\n",
       "      <td>5</td>\n",
       "      <td>This will be the bottle that you grab from the...</td>\n",
       "      <td>3</td>\n",
       "    </tr>\n",
       "    <tr>\n",
       "      <th>4</th>\n",
       "      <td>#oc-R12KPBODL2B5ZD</td>\n",
       "      <td>B007OSBEV0</td>\n",
       "      <td>Christopher P. Presta</td>\n",
       "      <td>1348617600</td>\n",
       "      <td>1</td>\n",
       "      <td>I didnt like this coffee. Instead of telling y...</td>\n",
       "      <td>2</td>\n",
       "    </tr>\n",
       "  </tbody>\n",
       "</table>\n",
       "</div>"
      ],
      "text/plain": [
       "               UserId   ProductId             ProfileName        Time  Score  \\\n",
       "0  #oc-R115TNMSPFT9I7  B005ZBZLT4                 Breyton  1331510400      2   \n",
       "1  #oc-R11D9D7SHXIJB9  B005HG9ESG  Louis E. Emory \"hoppy\"  1342396800      5   \n",
       "2  #oc-R11DNU2NBKQ23Z  B005ZBZLT4        Kim Cieszykowski  1348531200      1   \n",
       "3  #oc-R11O5J5ZVQE25C  B005HG9ESG           Penguin Chick  1346889600      5   \n",
       "4  #oc-R12KPBODL2B5ZD  B007OSBEV0   Christopher P. Presta  1348617600      1   \n",
       "\n",
       "                                                Text  COUNT(*)  \n",
       "0  Overall its just OK when considering the price...         2  \n",
       "1  My wife has recurring extreme muscle spasms, u...         3  \n",
       "2  This coffee is horrible and unfortunately not ...         2  \n",
       "3  This will be the bottle that you grab from the...         3  \n",
       "4  I didnt like this coffee. Instead of telling y...         2  "
      ]
     },
     "execution_count": 4,
     "metadata": {},
     "output_type": "execute_result"
    }
   ],
   "source": [
    "print(display.shape)\n",
    "display.head()"
   ]
  },
  {
   "cell_type": "code",
   "execution_count": 5,
   "metadata": {
    "ExecuteTime": {
     "end_time": "2019-07-02T16:34:42.355547Z",
     "start_time": "2019-07-02T16:34:42.199768Z"
    },
    "colab": {},
    "colab_type": "code",
    "id": "OaLh-iUnLs2q",
    "outputId": "7dba2312-8194-4884-a61b-92025df3b696"
   },
   "outputs": [
    {
     "data": {
      "text/html": [
       "<div>\n",
       "<style scoped>\n",
       "    .dataframe tbody tr th:only-of-type {\n",
       "        vertical-align: middle;\n",
       "    }\n",
       "\n",
       "    .dataframe tbody tr th {\n",
       "        vertical-align: top;\n",
       "    }\n",
       "\n",
       "    .dataframe thead th {\n",
       "        text-align: right;\n",
       "    }\n",
       "</style>\n",
       "<table border=\"1\" class=\"dataframe\">\n",
       "  <thead>\n",
       "    <tr style=\"text-align: right;\">\n",
       "      <th></th>\n",
       "      <th>UserId</th>\n",
       "      <th>ProductId</th>\n",
       "      <th>ProfileName</th>\n",
       "      <th>Time</th>\n",
       "      <th>Score</th>\n",
       "      <th>Text</th>\n",
       "      <th>COUNT(*)</th>\n",
       "    </tr>\n",
       "  </thead>\n",
       "  <tbody>\n",
       "    <tr>\n",
       "      <th>80638</th>\n",
       "      <td>AZY10LLTJ71NX</td>\n",
       "      <td>B001ATMQK2</td>\n",
       "      <td>undertheshrine \"undertheshrine\"</td>\n",
       "      <td>1296691200</td>\n",
       "      <td>5</td>\n",
       "      <td>I bought this 6 pack because for the price tha...</td>\n",
       "      <td>5</td>\n",
       "    </tr>\n",
       "  </tbody>\n",
       "</table>\n",
       "</div>"
      ],
      "text/plain": [
       "              UserId   ProductId                      ProfileName        Time  \\\n",
       "80638  AZY10LLTJ71NX  B001ATMQK2  undertheshrine \"undertheshrine\"  1296691200   \n",
       "\n",
       "       Score                                               Text  COUNT(*)  \n",
       "80638      5  I bought this 6 pack because for the price tha...         5  "
      ]
     },
     "execution_count": 5,
     "metadata": {},
     "output_type": "execute_result"
    }
   ],
   "source": [
    "display[display['UserId'] == 'AZY10LLTJ71NX']"
   ]
  },
  {
   "cell_type": "code",
   "execution_count": 6,
   "metadata": {
    "ExecuteTime": {
     "end_time": "2019-07-02T16:34:42.365487Z",
     "start_time": "2019-07-02T16:34:42.356513Z"
    },
    "colab": {},
    "colab_type": "code",
    "id": "fLyKXfnVLs2v",
    "outputId": "267883ea-20ad-4e6b-e8a9-25102920edf8"
   },
   "outputs": [
    {
     "data": {
      "text/plain": [
       "393063"
      ]
     },
     "execution_count": 6,
     "metadata": {},
     "output_type": "execute_result"
    }
   ],
   "source": [
    "display['COUNT(*)'].sum()"
   ]
  },
  {
   "cell_type": "markdown",
   "metadata": {
    "colab_type": "text",
    "id": "BjI7UhwyLs2z"
   },
   "source": [
    "#  [2] Exploratory Data Analysis"
   ]
  },
  {
   "cell_type": "markdown",
   "metadata": {
    "colab_type": "text",
    "id": "QlozktDwLs2z"
   },
   "source": [
    "## [2.1] Data Cleaning: Deduplication\n",
    "\n",
    "It is observed (as shown in the table below) that the reviews data had many duplicate entries. Hence it was necessary to remove duplicates in order to get unbiased results for the analysis of the data.  Following is an example:"
   ]
  },
  {
   "cell_type": "code",
   "execution_count": 7,
   "metadata": {
    "ExecuteTime": {
     "end_time": "2019-07-02T16:34:43.434652Z",
     "start_time": "2019-07-02T16:34:42.367482Z"
    },
    "colab": {},
    "colab_type": "code",
    "id": "dK8j675XLs20",
    "outputId": "a88e386d-8e31-4729-fe17-bab096bf7f25",
    "scrolled": false
   },
   "outputs": [
    {
     "data": {
      "text/html": [
       "<div>\n",
       "<style scoped>\n",
       "    .dataframe tbody tr th:only-of-type {\n",
       "        vertical-align: middle;\n",
       "    }\n",
       "\n",
       "    .dataframe tbody tr th {\n",
       "        vertical-align: top;\n",
       "    }\n",
       "\n",
       "    .dataframe thead th {\n",
       "        text-align: right;\n",
       "    }\n",
       "</style>\n",
       "<table border=\"1\" class=\"dataframe\">\n",
       "  <thead>\n",
       "    <tr style=\"text-align: right;\">\n",
       "      <th></th>\n",
       "      <th>Id</th>\n",
       "      <th>ProductId</th>\n",
       "      <th>UserId</th>\n",
       "      <th>ProfileName</th>\n",
       "      <th>HelpfulnessNumerator</th>\n",
       "      <th>HelpfulnessDenominator</th>\n",
       "      <th>Score</th>\n",
       "      <th>Time</th>\n",
       "      <th>Summary</th>\n",
       "      <th>Text</th>\n",
       "    </tr>\n",
       "  </thead>\n",
       "  <tbody>\n",
       "    <tr>\n",
       "      <th>0</th>\n",
       "      <td>78445</td>\n",
       "      <td>B000HDL1RQ</td>\n",
       "      <td>AR5J8UI46CURR</td>\n",
       "      <td>Geetha Krishnan</td>\n",
       "      <td>2</td>\n",
       "      <td>2</td>\n",
       "      <td>5</td>\n",
       "      <td>1199577600</td>\n",
       "      <td>LOACKER QUADRATINI VANILLA WAFERS</td>\n",
       "      <td>DELICIOUS WAFERS. I FIND THAT EUROPEAN WAFERS ...</td>\n",
       "    </tr>\n",
       "    <tr>\n",
       "      <th>1</th>\n",
       "      <td>138317</td>\n",
       "      <td>B000HDOPYC</td>\n",
       "      <td>AR5J8UI46CURR</td>\n",
       "      <td>Geetha Krishnan</td>\n",
       "      <td>2</td>\n",
       "      <td>2</td>\n",
       "      <td>5</td>\n",
       "      <td>1199577600</td>\n",
       "      <td>LOACKER QUADRATINI VANILLA WAFERS</td>\n",
       "      <td>DELICIOUS WAFERS. I FIND THAT EUROPEAN WAFERS ...</td>\n",
       "    </tr>\n",
       "    <tr>\n",
       "      <th>2</th>\n",
       "      <td>138277</td>\n",
       "      <td>B000HDOPYM</td>\n",
       "      <td>AR5J8UI46CURR</td>\n",
       "      <td>Geetha Krishnan</td>\n",
       "      <td>2</td>\n",
       "      <td>2</td>\n",
       "      <td>5</td>\n",
       "      <td>1199577600</td>\n",
       "      <td>LOACKER QUADRATINI VANILLA WAFERS</td>\n",
       "      <td>DELICIOUS WAFERS. I FIND THAT EUROPEAN WAFERS ...</td>\n",
       "    </tr>\n",
       "    <tr>\n",
       "      <th>3</th>\n",
       "      <td>73791</td>\n",
       "      <td>B000HDOPZG</td>\n",
       "      <td>AR5J8UI46CURR</td>\n",
       "      <td>Geetha Krishnan</td>\n",
       "      <td>2</td>\n",
       "      <td>2</td>\n",
       "      <td>5</td>\n",
       "      <td>1199577600</td>\n",
       "      <td>LOACKER QUADRATINI VANILLA WAFERS</td>\n",
       "      <td>DELICIOUS WAFERS. I FIND THAT EUROPEAN WAFERS ...</td>\n",
       "    </tr>\n",
       "    <tr>\n",
       "      <th>4</th>\n",
       "      <td>155049</td>\n",
       "      <td>B000PAQ75C</td>\n",
       "      <td>AR5J8UI46CURR</td>\n",
       "      <td>Geetha Krishnan</td>\n",
       "      <td>2</td>\n",
       "      <td>2</td>\n",
       "      <td>5</td>\n",
       "      <td>1199577600</td>\n",
       "      <td>LOACKER QUADRATINI VANILLA WAFERS</td>\n",
       "      <td>DELICIOUS WAFERS. I FIND THAT EUROPEAN WAFERS ...</td>\n",
       "    </tr>\n",
       "  </tbody>\n",
       "</table>\n",
       "</div>"
      ],
      "text/plain": [
       "       Id   ProductId         UserId      ProfileName  HelpfulnessNumerator  \\\n",
       "0   78445  B000HDL1RQ  AR5J8UI46CURR  Geetha Krishnan                     2   \n",
       "1  138317  B000HDOPYC  AR5J8UI46CURR  Geetha Krishnan                     2   \n",
       "2  138277  B000HDOPYM  AR5J8UI46CURR  Geetha Krishnan                     2   \n",
       "3   73791  B000HDOPZG  AR5J8UI46CURR  Geetha Krishnan                     2   \n",
       "4  155049  B000PAQ75C  AR5J8UI46CURR  Geetha Krishnan                     2   \n",
       "\n",
       "   HelpfulnessDenominator  Score        Time  \\\n",
       "0                       2      5  1199577600   \n",
       "1                       2      5  1199577600   \n",
       "2                       2      5  1199577600   \n",
       "3                       2      5  1199577600   \n",
       "4                       2      5  1199577600   \n",
       "\n",
       "                             Summary  \\\n",
       "0  LOACKER QUADRATINI VANILLA WAFERS   \n",
       "1  LOACKER QUADRATINI VANILLA WAFERS   \n",
       "2  LOACKER QUADRATINI VANILLA WAFERS   \n",
       "3  LOACKER QUADRATINI VANILLA WAFERS   \n",
       "4  LOACKER QUADRATINI VANILLA WAFERS   \n",
       "\n",
       "                                                Text  \n",
       "0  DELICIOUS WAFERS. I FIND THAT EUROPEAN WAFERS ...  \n",
       "1  DELICIOUS WAFERS. I FIND THAT EUROPEAN WAFERS ...  \n",
       "2  DELICIOUS WAFERS. I FIND THAT EUROPEAN WAFERS ...  \n",
       "3  DELICIOUS WAFERS. I FIND THAT EUROPEAN WAFERS ...  \n",
       "4  DELICIOUS WAFERS. I FIND THAT EUROPEAN WAFERS ...  "
      ]
     },
     "execution_count": 7,
     "metadata": {},
     "output_type": "execute_result"
    }
   ],
   "source": [
    "display = pd.read_sql_query(\"\"\"\n",
    "SELECT *\n",
    "FROM Reviews\n",
    "WHERE Score != 3 AND UserId=\"AR5J8UI46CURR\"\n",
    "ORDER BY ProductID\n",
    "\"\"\", con)\n",
    "display.head()"
   ]
  },
  {
   "cell_type": "markdown",
   "metadata": {
    "colab_type": "text",
    "id": "W6YkD2fDLs24"
   },
   "source": [
    "As it can be seen above that same user has multiple reviews with same values for HelpfulnessNumerator, HelpfulnessDenominator, Score, Time, Summary and Text and on doing analysis it was found that <br>\n",
    "<br> \n",
    "ProductId=B000HDOPZG was Loacker Quadratini Vanilla Wafer Cookies, 8.82-Ounce Packages (Pack of 8)<br>\n",
    "<br> \n",
    "ProductId=B000HDL1RQ was Loacker Quadratini Lemon Wafer Cookies, 8.82-Ounce Packages (Pack of 8) and so on<br>\n",
    "\n",
    "It was inferred after analysis that reviews with same parameters other than ProductId belonged to the same product just having different flavour or quantity. Hence in order to reduce redundancy it was decided to eliminate the rows having same parameters.<br>\n",
    "\n",
    "The method used for the same was that we first sort the data according to ProductId and then just keep the first similar product review and delelte the others. for eg. in the above just the review for ProductId=B000HDL1RQ remains. This method ensures that there is only one representative for each product and deduplication without sorting would lead to possibility of different representatives still existing for the same product."
   ]
  },
  {
   "cell_type": "code",
   "execution_count": 8,
   "metadata": {
    "ExecuteTime": {
     "end_time": "2019-07-02T16:34:43.530372Z",
     "start_time": "2019-07-02T16:34:43.436625Z"
    },
    "colab": {},
    "colab_type": "code",
    "id": "8rpzjZrcLs25"
   },
   "outputs": [],
   "source": [
    "# Sorting data according to ProductId in ascending order\n",
    "sorted_data = filtered_data.sort_values(\n",
    "    'ProductId', axis=0, ascending=True, inplace=False, kind='quicksort', na_position='last')"
   ]
  },
  {
   "cell_type": "code",
   "execution_count": 9,
   "metadata": {
    "ExecuteTime": {
     "end_time": "2019-07-02T16:34:43.727846Z",
     "start_time": "2019-07-02T16:34:43.531370Z"
    },
    "colab": {},
    "colab_type": "code",
    "id": "GG2mo2kJLs27",
    "outputId": "e4cb3a1b-843d-4410-9ae7-23750edc61c9"
   },
   "outputs": [
    {
     "data": {
      "text/plain": [
       "(87775, 10)"
      ]
     },
     "execution_count": 9,
     "metadata": {},
     "output_type": "execute_result"
    }
   ],
   "source": [
    "# Deduplication of entries\n",
    "final = sorted_data.drop_duplicates(\n",
    "    subset={\"UserId\", \"ProfileName\", \"Time\", \"Text\"}, keep='first', inplace=False)\n",
    "final.shape"
   ]
  },
  {
   "cell_type": "code",
   "execution_count": 10,
   "metadata": {
    "ExecuteTime": {
     "end_time": "2019-07-02T16:34:43.732834Z",
     "start_time": "2019-07-02T16:34:43.728844Z"
    },
    "colab": {},
    "colab_type": "code",
    "id": "uoQVhiaSLs2_",
    "outputId": "a63d3549-af4e-4f12-b109-a69cad6a3ae9"
   },
   "outputs": [
    {
     "data": {
      "text/plain": [
       "87.775"
      ]
     },
     "execution_count": 10,
     "metadata": {},
     "output_type": "execute_result"
    }
   ],
   "source": [
    "# Checking to see how much % of data still remains\n",
    "(final['Id'].size*1.0)/(filtered_data['Id'].size*1.0)*100"
   ]
  },
  {
   "cell_type": "markdown",
   "metadata": {
    "colab_type": "text",
    "id": "awi7B0KOLs3B"
   },
   "source": [
    "<b>Observation:-</b> It was also seen that in two rows given below the value of HelpfulnessNumerator is greater than HelpfulnessDenominator which is not practically possible hence these two rows too are removed from calcualtions"
   ]
  },
  {
   "cell_type": "code",
   "execution_count": 11,
   "metadata": {
    "ExecuteTime": {
     "end_time": "2019-07-02T16:34:43.753810Z",
     "start_time": "2019-07-02T16:34:43.733831Z"
    },
    "colab": {},
    "colab_type": "code",
    "id": "8VYQqYWZLs3C",
    "outputId": "bc496fbb-8533-4fd2-d0c1-aaccf4786bed"
   },
   "outputs": [
    {
     "data": {
      "text/html": [
       "<div>\n",
       "<style scoped>\n",
       "    .dataframe tbody tr th:only-of-type {\n",
       "        vertical-align: middle;\n",
       "    }\n",
       "\n",
       "    .dataframe tbody tr th {\n",
       "        vertical-align: top;\n",
       "    }\n",
       "\n",
       "    .dataframe thead th {\n",
       "        text-align: right;\n",
       "    }\n",
       "</style>\n",
       "<table border=\"1\" class=\"dataframe\">\n",
       "  <thead>\n",
       "    <tr style=\"text-align: right;\">\n",
       "      <th></th>\n",
       "      <th>Id</th>\n",
       "      <th>ProductId</th>\n",
       "      <th>UserId</th>\n",
       "      <th>ProfileName</th>\n",
       "      <th>HelpfulnessNumerator</th>\n",
       "      <th>HelpfulnessDenominator</th>\n",
       "      <th>Score</th>\n",
       "      <th>Time</th>\n",
       "      <th>Summary</th>\n",
       "      <th>Text</th>\n",
       "    </tr>\n",
       "  </thead>\n",
       "  <tbody>\n",
       "    <tr>\n",
       "      <th>0</th>\n",
       "      <td>64422</td>\n",
       "      <td>B000MIDROQ</td>\n",
       "      <td>A161DK06JJMCYF</td>\n",
       "      <td>J. E. Stephens \"Jeanne\"</td>\n",
       "      <td>3</td>\n",
       "      <td>1</td>\n",
       "      <td>5</td>\n",
       "      <td>1224892800</td>\n",
       "      <td>Bought This for My Son at College</td>\n",
       "      <td>My son loves spaghetti so I didn't hesitate or...</td>\n",
       "    </tr>\n",
       "    <tr>\n",
       "      <th>1</th>\n",
       "      <td>44737</td>\n",
       "      <td>B001EQ55RW</td>\n",
       "      <td>A2V0I904FH7ABY</td>\n",
       "      <td>Ram</td>\n",
       "      <td>3</td>\n",
       "      <td>2</td>\n",
       "      <td>4</td>\n",
       "      <td>1212883200</td>\n",
       "      <td>Pure cocoa taste with crunchy almonds inside</td>\n",
       "      <td>It was almost a 'love at first bite' - the per...</td>\n",
       "    </tr>\n",
       "  </tbody>\n",
       "</table>\n",
       "</div>"
      ],
      "text/plain": [
       "      Id   ProductId          UserId              ProfileName  \\\n",
       "0  64422  B000MIDROQ  A161DK06JJMCYF  J. E. Stephens \"Jeanne\"   \n",
       "1  44737  B001EQ55RW  A2V0I904FH7ABY                      Ram   \n",
       "\n",
       "   HelpfulnessNumerator  HelpfulnessDenominator  Score        Time  \\\n",
       "0                     3                       1      5  1224892800   \n",
       "1                     3                       2      4  1212883200   \n",
       "\n",
       "                                        Summary  \\\n",
       "0             Bought This for My Son at College   \n",
       "1  Pure cocoa taste with crunchy almonds inside   \n",
       "\n",
       "                                                Text  \n",
       "0  My son loves spaghetti so I didn't hesitate or...  \n",
       "1  It was almost a 'love at first bite' - the per...  "
      ]
     },
     "execution_count": 11,
     "metadata": {},
     "output_type": "execute_result"
    }
   ],
   "source": [
    "display = pd.read_sql_query(\"\"\"\n",
    "SELECT *\n",
    "FROM Reviews\n",
    "WHERE Score != 3 AND Id=44737 OR Id=64422\n",
    "ORDER BY ProductID\n",
    "\"\"\", con)\n",
    "\n",
    "display.head()"
   ]
  },
  {
   "cell_type": "code",
   "execution_count": 12,
   "metadata": {
    "ExecuteTime": {
     "end_time": "2019-07-02T16:34:43.786738Z",
     "start_time": "2019-07-02T16:34:43.754775Z"
    },
    "colab": {},
    "colab_type": "code",
    "id": "SJAmuBWvLs3F"
   },
   "outputs": [],
   "source": [
    "final = final[final.HelpfulnessNumerator <= final.HelpfulnessDenominator]"
   ]
  },
  {
   "cell_type": "code",
   "execution_count": 13,
   "metadata": {
    "ExecuteTime": {
     "end_time": "2019-07-02T16:34:43.794698Z",
     "start_time": "2019-07-02T16:34:43.787687Z"
    },
    "colab": {},
    "colab_type": "code",
    "id": "VRMt0ylrLs3H",
    "outputId": "62a60299-d518-4fb8-a40f-08a164b56aff"
   },
   "outputs": [
    {
     "name": "stdout",
     "output_type": "stream",
     "text": [
      "(87773, 10)\n"
     ]
    },
    {
     "data": {
      "text/plain": [
       "1    73592\n",
       "0    14181\n",
       "Name: Score, dtype: int64"
      ]
     },
     "execution_count": 13,
     "metadata": {},
     "output_type": "execute_result"
    }
   ],
   "source": [
    "# Before starting the next phase of preprocessing lets see the number of entries left\n",
    "print(final.shape)\n",
    "\n",
    "# How many positive and negative reviews are present in our dataset?\n",
    "final['Score'].value_counts()"
   ]
  },
  {
   "cell_type": "markdown",
   "metadata": {
    "colab_type": "text",
    "id": "WNlQvs_7Ls3K"
   },
   "source": [
    "#  [3] Preprocessing"
   ]
  },
  {
   "cell_type": "markdown",
   "metadata": {
    "colab_type": "text",
    "id": "1zx3OJ8aLs3L"
   },
   "source": [
    "## [3.1].  Preprocessing Review Text\n",
    "\n",
    "Now that we have finished deduplication our data requires some preprocessing before we go on further with analysis and making the prediction model.\n",
    "\n",
    "Hence in the Preprocessing phase we do the following in the order below:-\n",
    "\n",
    "1. Begin by removing the html tags\n",
    "2. Remove any punctuations or limited set of special characters like , or . or # etc.\n",
    "3. Check if the word is made up of english letters and is not alpha-numeric\n",
    "4. Check to see if the length of the word is greater than 2 (as it was researched that there is no adjective in 2-letters)\n",
    "5. Convert the word to lowercase\n",
    "6. Remove Stopwords\n",
    "7. Finally Snowball Stemming the word (it was obsereved to be better than Porter Stemming)<br>\n",
    "\n",
    "After which we collect the words used to describe positive and negative reviews"
   ]
  },
  {
   "cell_type": "code",
   "execution_count": 14,
   "metadata": {
    "ExecuteTime": {
     "end_time": "2019-07-02T16:34:43.807632Z",
     "start_time": "2019-07-02T16:34:43.795666Z"
    },
    "colab": {},
    "colab_type": "code",
    "id": "bBXkkhcmLs3L",
    "outputId": "724be0b8-80c3-46fc-8d9f-9fa8d6ee42a3"
   },
   "outputs": [
    {
     "name": "stdout",
     "output_type": "stream",
     "text": [
      "My dogs loves this chicken but its a product from China, so we wont be buying it anymore.  Its very hard to find any chicken products made in the USA but they are out there, but this one isnt.  Its too bad too because its a good product but I wont take any chances till they know what is going on with the china imports.\n",
      "==================================================\n",
      "The Candy Blocks were a nice visual for the Lego Birthday party but the candy has little taste to it.  Very little of the 2 lbs that I bought were eaten and I threw the rest away.  I would not buy the candy again.\n",
      "==================================================\n",
      "was way to hot for my blood, took a bite and did a jig  lol\n",
      "==================================================\n",
      "My dog LOVES these treats. They tend to have a very strong fish oil smell. So if you are afraid of the fishy smell, don't get it. But I think my dog likes it because of the smell. These treats are really small in size. They are great for training. You can give your dog several of these without worrying about him over eating. Amazon's price was much more reasonable than any other retailer. You can buy a 1 pound bag on Amazon for almost the same price as a 6 ounce bag at other retailers. It's definitely worth it to buy a big bag if your dog eats them a lot.\n",
      "==================================================\n"
     ]
    }
   ],
   "source": [
    "# printing some random reviews\n",
    "sent_0 = final['Text'].values[0]\n",
    "print(sent_0)\n",
    "print(\"=\"*50)\n",
    "\n",
    "sent_1000 = final['Text'].values[1000]\n",
    "print(sent_1000)\n",
    "print(\"=\"*50)\n",
    "\n",
    "sent_1500 = final['Text'].values[1500]\n",
    "print(sent_1500)\n",
    "print(\"=\"*50)\n",
    "\n",
    "sent_4900 = final['Text'].values[4900]\n",
    "print(sent_4900)\n",
    "print(\"=\"*50)"
   ]
  },
  {
   "cell_type": "code",
   "execution_count": 15,
   "metadata": {
    "ExecuteTime": {
     "end_time": "2019-07-02T16:34:43.813617Z",
     "start_time": "2019-07-02T16:34:43.808633Z"
    },
    "colab": {},
    "colab_type": "code",
    "id": "EP3seCPkLs3O",
    "outputId": "e1eb577f-b580-423e-e199-e2d0a8bfb2a5"
   },
   "outputs": [
    {
     "name": "stdout",
     "output_type": "stream",
     "text": [
      "My dogs loves this chicken but its a product from China, so we wont be buying it anymore.  Its very hard to find any chicken products made in the USA but they are out there, but this one isnt.  Its too bad too because its a good product but I wont take any chances till they know what is going on with the china imports.\n"
     ]
    }
   ],
   "source": [
    "# remove urls from text python: https://stackoverflow.com/a/40823105/4084039\n",
    "sent_0 = re.sub(r\"http\\S+\", \"\", sent_0)\n",
    "sent_1000 = re.sub(r\"http\\S+\", \"\", sent_1000)\n",
    "sent_150 = re.sub(r\"http\\S+\", \"\", sent_1500)\n",
    "sent_4900 = re.sub(r\"http\\S+\", \"\", sent_4900)\n",
    "\n",
    "print(sent_0)"
   ]
  },
  {
   "cell_type": "code",
   "execution_count": 16,
   "metadata": {
    "ExecuteTime": {
     "end_time": "2019-07-02T16:34:44.038017Z",
     "start_time": "2019-07-02T16:34:43.814615Z"
    },
    "colab": {},
    "colab_type": "code",
    "id": "kd57esPGLs3R",
    "outputId": "5ec56b39-595b-4639-8b24-3f33d13ac01c"
   },
   "outputs": [
    {
     "name": "stdout",
     "output_type": "stream",
     "text": [
      "My dogs loves this chicken but its a product from China, so we wont be buying it anymore.  Its very hard to find any chicken products made in the USA but they are out there, but this one isnt.  Its too bad too because its a good product but I wont take any chances till they know what is going on with the china imports.\n",
      "==================================================\n",
      "The Candy Blocks were a nice visual for the Lego Birthday party but the candy has little taste to it.  Very little of the 2 lbs that I bought were eaten and I threw the rest away.  I would not buy the candy again.\n",
      "==================================================\n",
      "was way to hot for my blood, took a bite and did a jig  lol\n",
      "==================================================\n",
      "My dog LOVES these treats. They tend to have a very strong fish oil smell. So if you are afraid of the fishy smell, don't get it. But I think my dog likes it because of the smell. These treats are really small in size. They are great for training. You can give your dog several of these without worrying about him over eating. Amazon's price was much more reasonable than any other retailer. You can buy a 1 pound bag on Amazon for almost the same price as a 6 ounce bag at other retailers. It's definitely worth it to buy a big bag if your dog eats them a lot.\n"
     ]
    }
   ],
   "source": [
    "# https://stackoverflow.com/questions/16206380/python-beautifulsoup-how-to-remove-all-tags-from-an-element\n",
    "from bs4 import BeautifulSoup\n",
    "\n",
    "soup = BeautifulSoup(sent_0, 'lxml')\n",
    "text = soup.get_text()\n",
    "print(text)\n",
    "print(\"=\"*50)\n",
    "\n",
    "soup = BeautifulSoup(sent_1000, 'lxml')\n",
    "text = soup.get_text()\n",
    "print(text)\n",
    "print(\"=\"*50)\n",
    "\n",
    "soup = BeautifulSoup(sent_1500, 'lxml')\n",
    "text = soup.get_text()\n",
    "print(text)\n",
    "print(\"=\"*50)\n",
    "\n",
    "soup = BeautifulSoup(sent_4900, 'lxml')\n",
    "text = soup.get_text()\n",
    "print(text)"
   ]
  },
  {
   "cell_type": "code",
   "execution_count": 17,
   "metadata": {
    "ExecuteTime": {
     "end_time": "2019-07-02T16:34:44.044033Z",
     "start_time": "2019-07-02T16:34:44.039014Z"
    },
    "colab": {},
    "colab_type": "code",
    "id": "nq-jyIK_Ls3U"
   },
   "outputs": [],
   "source": [
    "# https://stackoverflow.com/a/47091490/4084039\n",
    "import re\n",
    "\n",
    "\n",
    "def decontracted(phrase):\n",
    "    # specific\n",
    "    phrase = re.sub(r\"won't\", \"will not\", phrase)\n",
    "    phrase = re.sub(r\"can\\'t\", \"can not\", phrase)\n",
    "\n",
    "    # general\n",
    "    phrase = re.sub(r\"n\\'t\", \" not\", phrase)\n",
    "    phrase = re.sub(r\"\\'re\", \" are\", phrase)\n",
    "    phrase = re.sub(r\"\\'s\", \" is\", phrase)\n",
    "    phrase = re.sub(r\"\\'d\", \" would\", phrase)\n",
    "    phrase = re.sub(r\"\\'ll\", \" will\", phrase)\n",
    "    phrase = re.sub(r\"\\'t\", \" not\", phrase)\n",
    "    phrase = re.sub(r\"\\'ve\", \" have\", phrase)\n",
    "    phrase = re.sub(r\"\\'m\", \" am\", phrase)\n",
    "    return phrase"
   ]
  },
  {
   "cell_type": "code",
   "execution_count": 18,
   "metadata": {
    "ExecuteTime": {
     "end_time": "2019-07-02T16:34:44.055969Z",
     "start_time": "2019-07-02T16:34:44.044998Z"
    },
    "colab": {},
    "colab_type": "code",
    "id": "1ksQ9iEhLs3W",
    "outputId": "a7f9dad5-dda6-40a5-cefc-95c8f060ff83"
   },
   "outputs": [
    {
     "name": "stdout",
     "output_type": "stream",
     "text": [
      "was way to hot for my blood, took a bite and did a jig  lol\n",
      "==================================================\n"
     ]
    }
   ],
   "source": [
    "sent_1500 = decontracted(sent_1500)\n",
    "print(sent_1500)\n",
    "print(\"=\"*50)"
   ]
  },
  {
   "cell_type": "code",
   "execution_count": 19,
   "metadata": {
    "ExecuteTime": {
     "end_time": "2019-07-02T16:34:44.062975Z",
     "start_time": "2019-07-02T16:34:44.056967Z"
    },
    "colab": {},
    "colab_type": "code",
    "id": "10xZf0J9Ls3Z",
    "outputId": "ff2cb31c-789d-434a-8633-7f6c527024af"
   },
   "outputs": [
    {
     "name": "stdout",
     "output_type": "stream",
     "text": [
      "My dogs loves this chicken but its a product from China, so we wont be buying it anymore.  Its very hard to find any chicken products made in the USA but they are out there, but this one isnt.  Its too bad too because its a good product but I wont take any chances till they know what is going on with the china imports.\n"
     ]
    }
   ],
   "source": [
    "# remove words with numbers python: https://stackoverflow.com/a/18082370/4084039\n",
    "sent_0 = re.sub(\"\\S*\\d\\S*\", \"\", sent_0).strip()\n",
    "print(sent_0)"
   ]
  },
  {
   "cell_type": "code",
   "execution_count": 20,
   "metadata": {
    "ExecuteTime": {
     "end_time": "2019-07-02T16:34:44.073923Z",
     "start_time": "2019-07-02T16:34:44.063948Z"
    },
    "colab": {},
    "colab_type": "code",
    "id": "YeJklswfLs3b",
    "outputId": "0f312be6-24c6-4087-bd9e-6043bbb4a202"
   },
   "outputs": [
    {
     "name": "stdout",
     "output_type": "stream",
     "text": [
      "was way to hot for my blood took a bite and did a jig lol\n"
     ]
    }
   ],
   "source": [
    "# remove spacial character: https://stackoverflow.com/a/5843547/4084039\n",
    "sent_1500 = re.sub('[^A-Za-z0-9]+', ' ', sent_1500)\n",
    "print(sent_1500)"
   ]
  },
  {
   "cell_type": "code",
   "execution_count": 21,
   "metadata": {
    "ExecuteTime": {
     "end_time": "2019-07-02T16:34:44.084950Z",
     "start_time": "2019-07-02T16:34:44.074919Z"
    },
    "colab": {},
    "colab_type": "code",
    "id": "wlrQNxciLs3e"
   },
   "outputs": [],
   "source": [
    "# https://gist.github.com/sebleier/554280\n",
    "# we are removing the words from the stop words list: 'no', 'nor', 'not'\n",
    "# <br /><br /> ==> after the above steps, we are getting \"br br\"\n",
    "# we are including them into stop words list\n",
    "# instead of <br /> if we have <br/> these tags would have revmoved in the 1st step\n",
    "\n",
    "stopwords = set(['br', 'the', 'i', 'me', 'my', 'myself', 'we', 'our', 'ours', 'ourselves', 'you', \"you're\", \"you've\",\n",
    "                 \"you'll\", \"you'd\", 'your', 'yours', 'yourself', 'yourselves', 'he', 'him', 'his', 'himself',\n",
    "                 'she', \"she's\", 'her', 'hers', 'herself', 'it', \"it's\", 'its', 'itself', 'they', 'them', 'their',\n",
    "                 'theirs', 'themselves', 'what', 'which', 'who', 'whom', 'this', 'that', \"that'll\", 'these', 'those',\n",
    "                 'am', 'is', 'are', 'was', 'were', 'be', 'been', 'being', 'have', 'has', 'had', 'having', 'do', 'does',\n",
    "                 'did', 'doing', 'a', 'an', 'the', 'and', 'but', 'if', 'or', 'because', 'as', 'until', 'while', 'of',\n",
    "                 'at', 'by', 'for', 'with', 'about', 'against', 'between', 'into', 'through', 'during', 'before', 'after',\n",
    "                 'above', 'below', 'to', 'from', 'up', 'down', 'in', 'out', 'on', 'off', 'over', 'under', 'again', 'further',\n",
    "                 'then', 'once', 'here', 'there', 'when', 'where', 'why', 'how', 'all', 'any', 'both', 'each', 'few', 'more',\n",
    "                 'most', 'other', 'some', 'such', 'only', 'own', 'same', 'so', 'than', 'too', 'very',\n",
    "                 's', 't', 'can', 'will', 'just', 'don', \"don't\", 'should', \"should've\", 'now', 'd', 'll', 'm', 'o', 're',\n",
    "                 've', 'y', 'ain', 'aren', \"aren't\", 'couldn', \"couldn't\", 'didn', \"didn't\", 'doesn', \"doesn't\", 'hadn',\n",
    "                 \"hadn't\", 'hasn', \"hasn't\", 'haven', \"haven't\", 'isn', \"isn't\", 'ma', 'mightn', \"mightn't\", 'mustn',\n",
    "                 \"mustn't\", 'needn', \"needn't\", 'shan', \"shan't\", 'shouldn', \"shouldn't\", 'wasn', \"wasn't\", 'weren', \"weren't\",\n",
    "                 'won', \"won't\", 'wouldn', \"wouldn't\"])"
   ]
  },
  {
   "cell_type": "code",
   "execution_count": 22,
   "metadata": {
    "ExecuteTime": {
     "end_time": "2019-07-02T16:35:09.220722Z",
     "start_time": "2019-07-02T16:34:44.087885Z"
    },
    "colab": {},
    "colab_type": "code",
    "id": "s2mq5lM2Ls3g",
    "outputId": "e9781b52-42e7-460d-d747-b3a69a1ea435"
   },
   "outputs": [
    {
     "name": "stderr",
     "output_type": "stream",
     "text": [
      "100%|██████████████████████████████████████████████████████████████████████████| 87773/87773 [00:25<00:00, 3494.03it/s]\n"
     ]
    }
   ],
   "source": [
    "# Combining all the above stundents\n",
    "from tqdm import tqdm\n",
    "preprocessed_reviews = []\n",
    "# tqdm is for printing the status bar\n",
    "for sentance in tqdm(final['Text'].values):\n",
    "    sentance = re.sub(r\"http\\S+\", \"\", sentance)\n",
    "    sentance = BeautifulSoup(sentance, 'lxml').get_text()\n",
    "    sentance = decontracted(sentance)\n",
    "    sentance = re.sub(\"\\S*\\d\\S*\", \"\", sentance).strip()\n",
    "    sentance = re.sub('[^A-Za-z]+', ' ', sentance)\n",
    "    # https://gist.github.com/sebleier/554280\n",
    "    sentance = ' '.join(e.lower()\n",
    "                        for e in sentance.split() if e.lower() not in stopwords)\n",
    "    preprocessed_reviews.append(sentance.strip())"
   ]
  },
  {
   "cell_type": "code",
   "execution_count": 23,
   "metadata": {
    "ExecuteTime": {
     "end_time": "2019-07-02T16:35:09.225736Z",
     "start_time": "2019-07-02T16:35:09.222713Z"
    },
    "colab": {},
    "colab_type": "code",
    "id": "sYIfYlniLs3i",
    "outputId": "95cc7d6c-e2c6-4e1e-b061-d4edab26ac11"
   },
   "outputs": [
    {
     "data": {
      "text/plain": [
       "'way hot blood took bite jig lol'"
      ]
     },
     "execution_count": 23,
     "metadata": {},
     "output_type": "execute_result"
    }
   ],
   "source": [
    "preprocessed_reviews[1500]"
   ]
  },
  {
   "cell_type": "markdown",
   "metadata": {
    "colab_type": "text",
    "id": "-FO3JMH0Ls3p"
   },
   "source": [
    "# [4] Featurization"
   ]
  },
  {
   "cell_type": "markdown",
   "metadata": {
    "colab_type": "text",
    "id": "cINi_W06Ls3q"
   },
   "source": [
    "## [4.1] BAG OF WORDS"
   ]
  },
  {
   "cell_type": "code",
   "execution_count": 25,
   "metadata": {
    "ExecuteTime": {
     "end_time": "2019-07-02T16:35:14.595354Z",
     "start_time": "2019-07-02T16:35:09.237672Z"
    },
    "colab": {},
    "colab_type": "code",
    "id": "-BKOoPR8Ls3r",
    "outputId": "eeafa11c-f687-4755-88a9-c96a5d1a4354"
   },
   "outputs": [
    {
     "name": "stdout",
     "output_type": "stream",
     "text": [
      "some feature names  ['aa', 'aaa', 'aaaa', 'aaaaa', 'aaaaaaaaaaaa', 'aaaaaaaaaaaaaaa', 'aaaaaaahhhhhh', 'aaaaaaarrrrrggghhh', 'aaaaaawwwwwwwwww', 'aaaaah']\n",
      "==================================================\n",
      "the type of count vectorizer  <class 'scipy.sparse.csr.csr_matrix'>\n",
      "the shape of out text BOW vectorizer  (87773, 54904)\n",
      "the number of unique words  54904\n"
     ]
    }
   ],
   "source": [
    "# BoW\n",
    "count_vect = CountVectorizer()  # in scikit-learn\n",
    "count_vect.fit(preprocessed_reviews)\n",
    "print(\"some feature names \", count_vect.get_feature_names()[:10])\n",
    "print('='*50)\n",
    "\n",
    "final_counts = count_vect.transform(preprocessed_reviews)\n",
    "print(\"the type of count vectorizer \", type(final_counts))\n",
    "print(\"the shape of out text BOW vectorizer \", final_counts.get_shape())\n",
    "print(\"the number of unique words \", final_counts.get_shape()[1])"
   ]
  },
  {
   "cell_type": "markdown",
   "metadata": {
    "colab_type": "text",
    "id": "l3EIrSjsLs3t"
   },
   "source": [
    "## [4.2] Bi-Grams and n-Grams."
   ]
  },
  {
   "cell_type": "code",
   "execution_count": 26,
   "metadata": {
    "ExecuteTime": {
     "end_time": "2019-07-02T16:35:24.579672Z",
     "start_time": "2019-07-02T16:35:14.596351Z"
    },
    "colab": {},
    "colab_type": "code",
    "id": "L_5pbL_nLs3t",
    "outputId": "d38222d4-f435-4fa2-a8ea-ccb80c1049a5"
   },
   "outputs": [
    {
     "name": "stdout",
     "output_type": "stream",
     "text": [
      "the type of count vectorizer  <class 'scipy.sparse.csr.csr_matrix'>\n",
      "the shape of out text BOW vectorizer  (87773, 5000)\n",
      "the number of unique words including both unigrams and bigrams  5000\n"
     ]
    }
   ],
   "source": [
    "#bi-gram, tri-gram and n-gram\n",
    "\n",
    "# removing stop words like \"not\" should be avoided before building n-grams\n",
    "# count_vect = CountVectorizer(ngram_range=(1,2))\n",
    "# please do read the CountVectorizer documentation http://scikit-learn.org/stable/modules/generated/sklearn.feature_extraction.text.CountVectorizer.html\n",
    "\n",
    "# you can choose these numebrs min_df=10, max_features=5000, of your choice\n",
    "count_vect = CountVectorizer(ngram_range=(1, 2), min_df=10, max_features=5000)\n",
    "final_bigram_counts = count_vect.fit_transform(preprocessed_reviews)\n",
    "print(\"the type of count vectorizer \", type(final_bigram_counts))\n",
    "print(\"the shape of out text BOW vectorizer \", final_bigram_counts.get_shape())\n",
    "print(\"the number of unique words including both unigrams and bigrams \",\n",
    "      final_bigram_counts.get_shape()[1])"
   ]
  },
  {
   "cell_type": "markdown",
   "metadata": {
    "colab_type": "text",
    "id": "qD7Bjt85Ls3w"
   },
   "source": [
    "## [4.3] TF-IDF"
   ]
  },
  {
   "cell_type": "code",
   "execution_count": 27,
   "metadata": {
    "ExecuteTime": {
     "end_time": "2019-07-02T16:35:41.196266Z",
     "start_time": "2019-07-02T16:35:24.580669Z"
    },
    "colab": {},
    "colab_type": "code",
    "id": "ua1RYjCwLs3w",
    "outputId": "3ad454c0-f227-4932-90df-e4c67574bf77"
   },
   "outputs": [
    {
     "name": "stdout",
     "output_type": "stream",
     "text": [
      "some sample features(unique words in the corpus) ['aa', 'aafco', 'aback', 'abandon', 'abandoned', 'abdominal', 'ability', 'able', 'able add', 'able brew']\n",
      "==================================================\n",
      "the type of count vectorizer  <class 'scipy.sparse.csr.csr_matrix'>\n",
      "the shape of out text TFIDF vectorizer  (87773, 51709)\n",
      "the number of unique words including both unigrams and bigrams  51709\n"
     ]
    }
   ],
   "source": [
    "tf_idf_vect = TfidfVectorizer(ngram_range=(1, 2), min_df=10)\n",
    "tf_idf_vect.fit(preprocessed_reviews)\n",
    "print(\"some sample features(unique words in the corpus)\",\n",
    "      tf_idf_vect.get_feature_names()[0:10])\n",
    "print('='*50)\n",
    "\n",
    "final_tf_idf = tf_idf_vect.transform(preprocessed_reviews)\n",
    "print(\"the type of count vectorizer \", type(final_tf_idf))\n",
    "print(\"the shape of out text TFIDF vectorizer \", final_tf_idf.get_shape())\n",
    "print(\"the number of unique words including both unigrams and bigrams \",\n",
    "      final_tf_idf.get_shape()[1])"
   ]
  },
  {
   "cell_type": "markdown",
   "metadata": {
    "colab_type": "text",
    "id": "QGccvBKTLs3y"
   },
   "source": [
    "## [4.4] Word2Vec"
   ]
  },
  {
   "cell_type": "code",
   "execution_count": 28,
   "metadata": {
    "ExecuteTime": {
     "end_time": "2019-07-02T16:35:41.671028Z",
     "start_time": "2019-07-02T16:35:41.197260Z"
    },
    "colab": {},
    "colab_type": "code",
    "id": "CZm-XRouLs3z"
   },
   "outputs": [],
   "source": [
    "# Train your own Word2Vec model using your own text corpus\n",
    "i = 0\n",
    "list_of_sentance = []\n",
    "for sentance in preprocessed_reviews:\n",
    "    list_of_sentance.append(sentance.split())"
   ]
  },
  {
   "cell_type": "code",
   "execution_count": 29,
   "metadata": {
    "ExecuteTime": {
     "end_time": "2019-07-02T16:35:52.037290Z",
     "start_time": "2019-07-02T16:35:41.671992Z"
    },
    "colab": {},
    "colab_type": "code",
    "id": "R_XpdySnLs30",
    "outputId": "117cabfb-cc7a-49c5-aabd-6ac8deb53cb0",
    "scrolled": true
   },
   "outputs": [
    {
     "name": "stdout",
     "output_type": "stream",
     "text": [
      "[('fantastic', 0.8524446487426758), ('good', 0.816353440284729), ('awesome', 0.806555449962616), ('terrific', 0.8044517040252686), ('excellent', 0.7926040291786194), ('wonderful', 0.7618332505226135), ('perfect', 0.750099778175354), ('decent', 0.7179827690124512), ('amazing', 0.7174946665763855), ('nice', 0.7172699570655823)]\n",
      "==================================================\n",
      "[('greatest', 0.8168694972991943), ('best', 0.7430399656295776), ('tastiest', 0.7356173992156982), ('nastiest', 0.6781271696090698), ('disgusting', 0.6529643535614014), ('closest', 0.628830075263977), ('horrible', 0.628021776676178), ('awful', 0.6270361542701721), ('terrible', 0.620972752571106), ('vile', 0.5917322635650635)]\n"
     ]
    }
   ],
   "source": [
    "# Using Google News Word2Vectors\n",
    "\n",
    "# in this project we are using a pretrained model by google\n",
    "# its 3.3G file, once you load this into your memory\n",
    "# it occupies ~9Gb, so please do this step only if you have >12G of ram\n",
    "# we will provide a pickle file wich contains a dict ,\n",
    "# and it contains all our courpus words as keys and  model[word] as values\n",
    "# To use this code-snippet, download \"GoogleNews-vectors-negative300.bin\"\n",
    "# from https://drive.google.com/file/d/0B7XkCwpI5KDYNlNUTTlSS21pQmM/edit\n",
    "# it's 1.9GB in size.\n",
    "\n",
    "\n",
    "# http://kavita-ganesan.com/gensim-word2vec-tutorial-starter-code/#.W17SRFAzZPY\n",
    "# you can comment this whole cell\n",
    "# or change these varible according to your need\n",
    "\n",
    "is_your_ram_gt_16g = False\n",
    "want_to_use_google_w2v = False\n",
    "want_to_train_w2v = True\n",
    "\n",
    "if want_to_train_w2v:\n",
    "    # min_count = 5 considers only words that occured atleast 5 times\n",
    "    w2v_model = Word2Vec(list_of_sentance, min_count=5, size=50, workers=4)\n",
    "    print(w2v_model.wv.most_similar('great'))\n",
    "    print('='*50)\n",
    "    print(w2v_model.wv.most_similar('worst'))\n",
    "\n",
    "elif want_to_use_google_w2v and is_your_ram_gt_16g:\n",
    "    if os.path.isfile('GoogleNews-vectors-negative300.bin'):\n",
    "        w2v_model = KeyedVectors.load_word2vec_format(\n",
    "            'GoogleNews-vectors-negative300.bin', binary=True)\n",
    "        print(w2v_model.wv.most_similar('great'))\n",
    "        print(w2v_model.wv.most_similar('worst'))\n",
    "    else:\n",
    "        print(\"you don't have gogole's word2vec file, keep want_to_train_w2v = True, to train your own w2v \")"
   ]
  },
  {
   "cell_type": "code",
   "execution_count": 30,
   "metadata": {
    "ExecuteTime": {
     "end_time": "2019-07-02T16:35:52.048262Z",
     "start_time": "2019-07-02T16:35:52.038288Z"
    },
    "colab": {},
    "colab_type": "code",
    "id": "yhpgA_hwLs32",
    "outputId": "e383bce6-2204-4617-88e7-02486fb7a9ba"
   },
   "outputs": [
    {
     "name": "stdout",
     "output_type": "stream",
     "text": [
      "number of words that occured minimum 5 times  17386\n",
      "sample words  ['dogs', 'loves', 'chicken', 'product', 'china', 'wont', 'buying', 'anymore', 'hard', 'find', 'products', 'made', 'usa', 'one', 'isnt', 'bad', 'good', 'take', 'chances', 'till', 'know', 'going', 'imports', 'love', 'saw', 'pet', 'store', 'tag', 'attached', 'regarding', 'satisfied', 'safe', 'infestation', 'literally', 'everywhere', 'flying', 'around', 'kitchen', 'bought', 'hoping', 'least', 'get', 'rid', 'weeks', 'fly', 'stuck', 'squishing', 'buggers', 'success', 'rate']\n"
     ]
    }
   ],
   "source": [
    "w2v_words = list(w2v_model.wv.vocab)\n",
    "print(\"number of words that occured minimum 5 times \", len(w2v_words))\n",
    "print(\"sample words \", w2v_words[0:50])"
   ]
  },
  {
   "cell_type": "markdown",
   "metadata": {
    "colab_type": "text",
    "id": "-NM5E-glLs34"
   },
   "source": [
    "## [4.4.1] Converting text into vectors using Avg W2V, TFIDF-W2V"
   ]
  },
  {
   "cell_type": "markdown",
   "metadata": {
    "colab_type": "text",
    "id": "TZ7mLBDgLs35"
   },
   "source": [
    "#### [4.4.1.1] Avg W2v"
   ]
  },
  {
   "cell_type": "code",
   "execution_count": 31,
   "metadata": {
    "ExecuteTime": {
     "end_time": "2019-07-02T16:38:14.716011Z",
     "start_time": "2019-07-02T16:35:52.050257Z"
    },
    "colab": {},
    "colab_type": "code",
    "id": "GDsQbM4NLs35",
    "outputId": "8e89f538-193a-4caf-b6dd-090cf17307d5"
   },
   "outputs": [
    {
     "name": "stderr",
     "output_type": "stream",
     "text": [
      "100%|███████████████████████████████████████████████████████████████████████████| 87773/87773 [02:22<00:00, 615.27it/s]\n"
     ]
    },
    {
     "name": "stdout",
     "output_type": "stream",
     "text": [
      "87773\n",
      "50\n"
     ]
    }
   ],
   "source": [
    "# average Word2Vec\n",
    "# compute average word2vec for each review.\n",
    "sent_vectors = []  # the avg-w2v for each sentence/review is stored in this list\n",
    "for sent in tqdm(list_of_sentance):  # for each review/sentence\n",
    "    # as word vectors are of zero length 50, you might need to change this to 300 if you use google's w2v\n",
    "    sent_vec = np.zeros(50)\n",
    "    cnt_words = 0  # num of words with a valid vector in the sentence/review\n",
    "    for word in sent:  # for each word in a review/sentence\n",
    "        if word in w2v_words:\n",
    "            vec = w2v_model.wv[word]\n",
    "            sent_vec += vec\n",
    "            cnt_words += 1\n",
    "    if cnt_words != 0:\n",
    "        sent_vec /= cnt_words\n",
    "    sent_vectors.append(sent_vec)\n",
    "print(len(sent_vectors))\n",
    "print(len(sent_vectors[0]))"
   ]
  },
  {
   "cell_type": "markdown",
   "metadata": {
    "colab_type": "text",
    "id": "tzS18bQ3Ls37"
   },
   "source": [
    "#### [4.4.1.2] TFIDF weighted W2v"
   ]
  },
  {
   "cell_type": "code",
   "execution_count": 32,
   "metadata": {
    "ExecuteTime": {
     "end_time": "2019-07-02T16:38:17.519495Z",
     "start_time": "2019-07-02T16:38:14.716985Z"
    },
    "colab": {},
    "colab_type": "code",
    "id": "ic2bT_NoLs38"
   },
   "outputs": [],
   "source": [
    "# S = [\"abc def pqr\", \"def def def abc\", \"pqr pqr def\"]\n",
    "model = TfidfVectorizer()\n",
    "tf_idf_matrix = model.fit_transform(preprocessed_reviews)\n",
    "# we are converting a dictionary with word as a key, and the idf as a value\n",
    "dictionary = dict(zip(model.get_feature_names(), list(model.idf_)))"
   ]
  },
  {
   "cell_type": "code",
   "execution_count": 33,
   "metadata": {
    "ExecuteTime": {
     "end_time": "2019-07-02T17:03:31.724323Z",
     "start_time": "2019-07-02T16:38:17.520492Z"
    },
    "colab": {},
    "colab_type": "code",
    "id": "u4YTuvggLs39",
    "outputId": "9bbcd023-92e9-4c2e-dee8-0da93fb6f20f",
    "scrolled": true
   },
   "outputs": [
    {
     "name": "stderr",
     "output_type": "stream",
     "text": [
      "100%|████████████████████████████████████████████████████████████████████████████| 87773/87773 [25:14<00:00, 57.97it/s]\n"
     ]
    }
   ],
   "source": [
    "# TF-IDF weighted Word2Vec\n",
    "tfidf_feat = model.get_feature_names()  # tfidf words/col-names\n",
    "# final_tf_idf is the sparse matrix with row= sentence, col=word and cell_val = tfidf\n",
    "\n",
    "tfidf_sent_vectors = []  # the tfidf-w2v for each sentence/review is stored in this list\n",
    "row = 0\n",
    "for sent in tqdm(list_of_sentance):  # for each review/sentence\n",
    "    sent_vec = np.zeros(50)  # as word vectors are of zero length\n",
    "    weight_sum = 0  # num of words with a valid vector in the sentence/review\n",
    "    for word in sent:  # for each word in a review/sentence\n",
    "        if word in w2v_words and word in tfidf_feat:\n",
    "            vec = w2v_model.wv[word]\n",
    "            #tf_idf = tf_idf_matrix[row, tfidf_feat.index(word)]\n",
    "            # to reduce the computation we are\n",
    "            # dictionary[word] = idf value of word in whole courpus\n",
    "            # sent.count(word) = tf valeus of word in this review\n",
    "            tf_idf = dictionary[word]*(sent.count(word)/len(sent))\n",
    "            sent_vec += (vec * tf_idf)\n",
    "            weight_sum += tf_idf\n",
    "    if weight_sum != 0:\n",
    "        sent_vec /= weight_sum\n",
    "    tfidf_sent_vectors.append(sent_vec)\n",
    "    row += 1"
   ]
  },
  {
   "cell_type": "markdown",
   "metadata": {
    "colab_type": "text",
    "id": "pBXdyiIZLs3_"
   },
   "source": [
    "# [5] Assignment 9: Random Forests"
   ]
  },
  {
   "cell_type": "markdown",
   "metadata": {
    "colab_type": "text",
    "id": "aPYIWlGxLs4A"
   },
   "source": [
    "## [ Applying RF"
   ]
  },
  {
   "cell_type": "markdown",
   "metadata": {
    "colab_type": "text",
    "id": "wiXbhUV9Ls4B"
   },
   "source": [
    "### Applying Random Forests on BOW,<font color='red'> SET 1</font>"
   ]
  },
  {
   "cell_type": "code",
   "execution_count": 34,
   "metadata": {
    "ExecuteTime": {
     "end_time": "2019-07-02T17:03:31.997594Z",
     "start_time": "2019-07-02T17:03:31.725321Z"
    },
    "colab": {},
    "colab_type": "code",
    "id": "JyV_d14ALs4B"
   },
   "outputs": [
    {
     "data": {
      "text/plain": [
       "1    73592\n",
       "0    14181\n",
       "Name: Score, dtype: int64"
      ]
     },
     "execution_count": 34,
     "metadata": {},
     "output_type": "execute_result"
    }
   ],
   "source": [
    "final['preprocessed'] = preprocessed_reviews\n",
    "\n",
    "# Creating the feature vector X and target class vector y\n",
    "X = final['preprocessed']\n",
    "Y = final['Score']\n",
    "\n",
    "# let's check the count of each class\n",
    "Y.value_counts()"
   ]
  },
  {
   "cell_type": "markdown",
   "metadata": {},
   "source": [
    "#### Train - Test split"
   ]
  },
  {
   "cell_type": "code",
   "execution_count": 35,
   "metadata": {
    "ExecuteTime": {
     "end_time": "2019-07-02T17:03:32.011587Z",
     "start_time": "2019-07-02T17:03:31.998589Z"
    }
   },
   "outputs": [],
   "source": [
    "# Splitting data as train and test set to fit our model and to calculate the performance of the model\n",
    "from sklearn.model_selection import train_test_split\n",
    "X_train, X_test, y_train, y_test = train_test_split(\n",
    "    X, Y, test_size=0.2)  # this is random splitting"
   ]
  },
  {
   "cell_type": "markdown",
   "metadata": {},
   "source": [
    "#### Vectorisation"
   ]
  },
  {
   "cell_type": "code",
   "execution_count": 36,
   "metadata": {
    "ExecuteTime": {
     "end_time": "2019-07-02T17:03:44.519128Z",
     "start_time": "2019-07-02T17:03:32.012554Z"
    }
   },
   "outputs": [
    {
     "name": "stdout",
     "output_type": "stream",
     "text": [
      "Shape of train and test set\n",
      "(70218,) (70218,)\n",
      "(17555,) (17555,)\n",
      "====================================================================================================\n"
     ]
    }
   ],
   "source": [
    "# importing library\n",
    "from sklearn.feature_extraction.text import CountVectorizer\n",
    "from sklearn import preprocessing\n",
    "\n",
    "print(\"Shape of train and test set\")\n",
    "print(X_train.shape, y_train.shape)\n",
    "print(X_test.shape, y_test.shape)\n",
    "\n",
    "print(\"=\"*100)\n",
    "\n",
    "# Applying Bag of Words on our data\n",
    "# Fit_transform the test data and transform  the test data, this is done to prevent data leakage\n",
    "\n",
    "\n",
    "# creating an instance of the count vectoriser to produce bi grams and with maximum fearures being 5000\n",
    "# countvectorizer takes in the text data and returns the matrix of token counts which is sparse by default\n",
    "\n",
    "vectorizer = CountVectorizer(ngram_range=(1, 2), min_df=10, max_features=5000)\n",
    "vectorizer.fit(X_train)  # fit has to happen only on train data\n",
    "\n",
    "# we use the fitted CountVectorizer to convert the text to vector\n",
    "X_train_bow = vectorizer.transform(X_train)\n",
    "X_test_bow = vectorizer.transform(X_test)\n",
    "\n",
    "# Normalise the data to ensure both are on bthe same scale\n",
    "X_train_bown = preprocessing.normalize(X_train_bow)\n",
    "X_test_bown = preprocessing.normalize(X_test_bow)"
   ]
  },
  {
   "cell_type": "markdown",
   "metadata": {},
   "source": [
    "#### Hyperparameter tuning - max_depth and n_estimators"
   ]
  },
  {
   "cell_type": "code",
   "execution_count": 37,
   "metadata": {
    "ExecuteTime": {
     "end_time": "2019-07-02T17:05:59.259729Z",
     "start_time": "2019-07-02T17:03:44.521124Z"
    }
   },
   "outputs": [
    {
     "name": "stdout",
     "output_type": "stream",
     "text": [
      "Results for CV data\n",
      "   mean_test_score  std_test_score                                  params\n",
      "0         0.917647        0.000514  {'n_estimators': 500, 'max_depth': 20}\n",
      "1         0.904090        0.001984  {'n_estimators': 100, 'max_depth': 15}\n",
      "2         0.868691        0.002215    {'n_estimators': 50, 'max_depth': 5}\n",
      "3         0.911477        0.001351  {'n_estimators': 500, 'max_depth': 15}\n",
      "4         0.876842        0.002702   {'n_estimators': 100, 'max_depth': 5}\n",
      "5         0.914408        0.000920  {'n_estimators': 100, 'max_depth': 20}\n",
      "6         0.889530        0.001540   {'n_estimators': 500, 'max_depth': 5}\n",
      "7         0.903017        0.000708  {'n_estimators': 500, 'max_depth': 10}\n",
      "8         0.902219        0.000589  {'n_estimators': 250, 'max_depth': 10}\n",
      "9         0.910136        0.002976  {'n_estimators': 250, 'max_depth': 15}\n"
     ]
    }
   ],
   "source": [
    "from sklearn.ensemble import RandomForestClassifier\n",
    "from sklearn.model_selection import RandomizedSearchCV\n",
    "from sklearn.metrics import roc_auc_score\n",
    "import math\n",
    "\n",
    "cl = RandomForestClassifier(class_weight=\"balanced\")\n",
    "parameters = {'max_depth': [5, 10, 15, 20],\n",
    "              'n_estimators': [50, 100, 250, 500]}\n",
    "\n",
    "# Creating an instance of GCV that performs a 3 fold cross validation by applying Linear SVC on the data\n",
    "# with roc_auc as the performance metric and taking a set of parameters in the form of alpha\n",
    "clf = RandomizedSearchCV(cl, parameters, cv=3,\n",
    "                         scoring='roc_auc', n_jobs=-1, n_iter=10)\n",
    "\n",
    "# fitting with train data\n",
    "clf.fit(X_train_bown, y_train)\n",
    "\n",
    "# observing the results- mean auc score, std deviation and the alpha values\n",
    "print(\"Results for CV data\")\n",
    "print(pd.DataFrame(clf.cv_results_)[\n",
    "      ['mean_test_score', 'std_test_score', 'params']])"
   ]
  },
  {
   "cell_type": "markdown",
   "metadata": {
    "ExecuteTime": {
     "end_time": "2019-07-03T18:36:49.885118Z",
     "start_time": "2019-07-03T18:36:49.882094Z"
    }
   },
   "source": [
    "#### Creating a heatmap\n",
    "Which helps us to undertand how a quantity is affected by the combination of two other quantites in every possible way."
   ]
  },
  {
   "cell_type": "markdown",
   "metadata": {},
   "source": [
    "#### Choosing best hyperparameter max_depth and min_samples_split"
   ]
  },
  {
   "cell_type": "code",
   "execution_count": 39,
   "metadata": {
    "ExecuteTime": {
     "end_time": "2019-07-02T17:05:59.518924Z",
     "start_time": "2019-07-02T17:05:59.269557Z"
    }
   },
   "outputs": [
    {
     "data": {
      "text/plain": [
       "<matplotlib.axes._subplots.AxesSubplot at 0x10ea8547ba8>"
      ]
     },
     "execution_count": 39,
     "metadata": {},
     "output_type": "execute_result"
    },
    {
     "data": {
      "image/png": "[encoded data removed]",
      "text/plain": [
       "<Figure size 504x504 with 2 Axes>"
      ]
     },
     "metadata": {
      "needs_background": "light"
     },
     "output_type": "display_data"
    }
   ],
   "source": [
    "cd = pd.DataFrame(clf.cv_results_)[\n",
    "    ['mean_test_score', 'std_test_score', 'params']]\n",
    "\n",
    "# Splitting dictionary in the pandas column into seperate columns\n",
    "pt = pd.concat([cd.drop(['params'], axis=1),\n",
    "                cd[\"params\"].apply(pd.Series)], axis=1)\n",
    "\n",
    "# Creating a heat map\n",
    "# A pivot table to feed the data to the heat map\n",
    "pivot_tab = pt.pivot(\"n_estimators\", \"max_depth\", \"mean_test_score\")\n",
    "plt.figure(figsize=(7, 7))\n",
    "plt.xlabel(\"max_depth\")\n",
    "plt.ylabel(\"n_estimators\")\n",
    "plt.title(\"Heat map to see how auc changes with max depth and n_estimators\")\n",
    "sns.heatmap(pivot_tab, annot=True)"
   ]
  },
  {
   "cell_type": "markdown",
   "metadata": {},
   "source": [
    "#### Observation\n",
    "1. The AUC is max for depth = 20 and n_estimators = 500. But model overfitted on our train data for thes values.\n",
    "2. Let's choose some optimal values to train our model so that it doesn't overfit."
   ]
  },
  {
   "cell_type": "markdown",
   "metadata": {},
   "source": [
    "#### Training our model with max_depth = 10 and n_estimators = 100"
   ]
  },
  {
   "cell_type": "code",
   "execution_count": 40,
   "metadata": {
    "ExecuteTime": {
     "end_time": "2019-07-02T17:06:01.993309Z",
     "start_time": "2019-07-02T17:05:59.519889Z"
    }
   },
   "outputs": [
    {
     "data": {
      "image/png": "[encoded data removed]",
      "text/plain": [
       "<Figure size 432x288 with 1 Axes>"
      ]
     },
     "metadata": {
      "needs_background": "light"
     },
     "output_type": "display_data"
    },
    {
     "name": "stdout",
     "output_type": "stream",
     "text": [
      "Train confusion matrix\n",
      "Test confusion matrix\n"
     ]
    },
    {
     "data": {
      "text/plain": [
       "<matplotlib.axes._subplots.AxesSubplot at 0x10ea6bc49e8>"
      ]
     },
     "execution_count": 40,
     "metadata": {},
     "output_type": "execute_result"
    },
    {
     "data": {
      "image/png": "[encoded data removed]",
      "text/plain": [
       "<Figure size 432x288 with 2 Axes>"
      ]
     },
     "metadata": {
      "needs_background": "light"
     },
     "output_type": "display_data"
    },
    {
     "data": {
      "image/png": "[encoded data removed]",
      "text/plain": [
       "<Figure size 432x288 with 2 Axes>"
      ]
     },
     "metadata": {
      "needs_background": "light"
     },
     "output_type": "display_data"
    }
   ],
   "source": [
    "# Code Ref: Applied AI\n",
    "# https://scikit-learn.org/stable/modules/generated/sklearn.metrics.roc_curve.html#sklearn.metrics.roc_curve\n",
    "from sklearn.metrics import confusion_matrix\n",
    "from sklearn.metrics import roc_curve, auc, accuracy_score\n",
    "import scikitplot as splot\n",
    "\n",
    "\n",
    "cl = RandomForestClassifier(\n",
    "    max_depth=10, n_estimators=100, class_weight=\"balanced\", n_jobs=-1)\n",
    "cl.fit(X_train_bown, y_train)\n",
    "\n",
    "# roc_auc_score(y_true, y_score) the 2nd parameter should be probability estimates of the positive class\n",
    "# not the predicted outputs\n",
    "train_fpr, train_tpr, thresholds = roc_curve(\n",
    "    y_train, cl.predict_proba(X_train_bown)[:, 1])\n",
    "\n",
    "#print( roc_curve(y_train, neigh.predict_proba(X_train_bow)[:,1]))\n",
    "test_fpr, test_tpr, thresholds = roc_curve(\n",
    "    y_test, cl.predict_proba(X_test_bown)[:, 1])\n",
    "\n",
    "# plotting the test and train auc curve - TPR v/s FPR\n",
    "plt.plot(train_fpr, train_tpr, label=\"train AUC =\" +\n",
    "         str(auc(train_fpr, train_tpr)))\n",
    "plt.plot(test_fpr, test_tpr, label=\"test AUC =\"+str(auc(test_fpr, test_tpr)))\n",
    "plt.legend()\n",
    "plt.xlabel(\"FPR\")\n",
    "plt.ylabel(\"TPR\")\n",
    "plt.title(\"ERROR PLOTS\")\n",
    "plt.show()\n",
    "\n",
    "\n",
    "print(\"Train confusion matrix\")\n",
    "splot.metrics.plot_confusion_matrix(y_train, cl.predict(X_train_bown))\n",
    "\n",
    "print(\"Test confusion matrix\")\n",
    "splot.metrics.plot_confusion_matrix(y_test, cl.predict(X_test_bown))"
   ]
  },
  {
   "cell_type": "markdown",
   "metadata": {
    "colab_type": "text",
    "id": "bwf2SbLSLs4D"
   },
   "source": [
    "### [5.1.2] Wordcloud of top 20 important features from<font color='red'> SET 1</font>"
   ]
  },
  {
   "cell_type": "markdown",
   "metadata": {},
   "source": [
    "Word Cloud is a data visualization technique used for representing text data in which the size of each word indicates its frequency or importance. Significant textual data points can be highlighted using a word cloud. Word clouds are widely used for analyzing data from social network websites."
   ]
  },
  {
   "cell_type": "code",
   "execution_count": 41,
   "metadata": {
    "ExecuteTime": {
     "end_time": "2019-07-02T17:06:02.679476Z",
     "start_time": "2019-07-02T17:06:01.994289Z"
    }
   },
   "outputs": [
    {
     "data": {
      "image/png": "[encoded data removed]",
      "text/plain": [
       "<Figure size 576x576 with 1 Axes>"
      ]
     },
     "metadata": {
      "needs_background": "light"
     },
     "output_type": "display_data"
    }
   ],
   "source": [
    "# Code Ref : https://www.geeksforgeeks.org/generating-word-cloud-python/\n",
    "from wordcloud import WordCloud\n",
    "ind = cl.feature_importances_\n",
    "\n",
    "features = vectorizer.get_feature_names()\n",
    "positions = np.argsort(ind)[::-1]\n",
    "positions\n",
    "\n",
    "imp_features = \" \"\n",
    "for i in list(positions[0:20]):\n",
    "    imp_features += features[i] + \" \"\n",
    "\n",
    "wordcloud = WordCloud(width=800, height=800,\n",
    "                      background_color='white',\n",
    "                      stopwords=stopwords,\n",
    "                      min_font_size=10).generate(imp_features)\n",
    "\n",
    "# plot the WordCloud image\n",
    "plt.figure(figsize=(8, 8), facecolor=None)\n",
    "plt.imshow(wordcloud)\n",
    "plt.axis(\"off\")\n",
    "plt.tight_layout(pad=0)\n",
    "\n",
    "plt.show()"
   ]
  },
  {
   "cell_type": "markdown",
   "metadata": {},
   "source": [
    "#### Observation \n",
    "Based on the font size.\n",
    "1. We can infer that words NOT,LOVE,BEST are more important because their font size is large.\n",
    "2. The other words like EASY and WASTE are lesser important as their font size is small compared to other words"
   ]
  },
  {
   "cell_type": "markdown",
   "metadata": {
    "colab_type": "text",
    "id": "o0qHcTh5Ls4E"
   },
   "source": [
    "### [5.1.3] Applying Random Forests on TFIDF,<font color='red'> SET 2</font>"
   ]
  },
  {
   "cell_type": "code",
   "execution_count": 42,
   "metadata": {
    "ExecuteTime": {
     "end_time": "2019-07-02T17:06:02.687449Z",
     "start_time": "2019-07-02T17:06:02.680444Z"
    },
    "colab": {},
    "colab_type": "code",
    "id": "O_pZjKWPLs4F"
   },
   "outputs": [
    {
     "data": {
      "text/plain": [
       "1    73592\n",
       "0    14181\n",
       "Name: Score, dtype: int64"
      ]
     },
     "execution_count": 42,
     "metadata": {},
     "output_type": "execute_result"
    }
   ],
   "source": [
    "X = final['preprocessed']\n",
    "Y = final['Score']\n",
    "\n",
    "# let's check the count of each class\n",
    "Y.value_counts()"
   ]
  },
  {
   "cell_type": "markdown",
   "metadata": {},
   "source": [
    "#### Train - Test split"
   ]
  },
  {
   "cell_type": "code",
   "execution_count": 43,
   "metadata": {
    "ExecuteTime": {
     "end_time": "2019-07-02T17:06:02.711391Z",
     "start_time": "2019-07-02T17:06:02.688420Z"
    }
   },
   "outputs": [],
   "source": [
    "# Splitting data as train and test set to fit our model and to calculate the performance of the model\n",
    "from sklearn.model_selection import train_test_split\n",
    "\n",
    "X_train, X_test, y_train, y_test = train_test_split(\n",
    "    X, Y, test_size=0.2)  # this is random splitting"
   ]
  },
  {
   "cell_type": "markdown",
   "metadata": {},
   "source": [
    "#### Vectorisation"
   ]
  },
  {
   "cell_type": "code",
   "execution_count": 44,
   "metadata": {
    "ExecuteTime": {
     "end_time": "2019-07-02T17:06:15.470260Z",
     "start_time": "2019-07-02T17:06:02.712356Z"
    }
   },
   "outputs": [
    {
     "name": "stdout",
     "output_type": "stream",
     "text": [
      "Shape of train and test set\n",
      "(70218,) (70218,)\n",
      "(17555,) (17555,)\n",
      "some sample features(unique words in the corpus) ['ability', 'able', 'able buy', 'able find', 'able get', 'able order', 'absolute', 'absolute favorite', 'absolutely', 'absolutely delicious']\n",
      "==================================================\n",
      "After vectorizations\n",
      "(70218, 5000) (70218,)\n",
      "(17555, 5000) (17555,)\n"
     ]
    }
   ],
   "source": [
    "# importing library\n",
    "from sklearn import preprocessing\n",
    "\n",
    "print(\"Shape of train and test set\")\n",
    "print(X_train.shape, y_train.shape)\n",
    "print(X_test.shape, y_test.shape)\n",
    "\n",
    "# Applying TF-idf on our data\n",
    "# Fit_transform the test data and transform  the test data, this is done to prevent data leakage\n",
    "\n",
    "tf_idf_vect = TfidfVectorizer(ngram_range=(1, 2), max_features=5000)\n",
    "# Fit the train data\n",
    "tf_idf_vect.fit(X_train)\n",
    "print(\"some sample features(unique words in the corpus)\",\n",
    "      tf_idf_vect.get_feature_names()[0:10])\n",
    "print('='*50)\n",
    "\n",
    "# transform train and test data\n",
    "X_train_tfidfv = tf_idf_vect.transform(X_train)\n",
    "X_test_tfidfv = tf_idf_vect.transform(X_test)\n",
    "\n",
    "# Normalise the data to ensure both are on the same scale\n",
    "X_train_tfidf = preprocessing.normalize(X_train_tfidfv)\n",
    "X_test_tfidf = preprocessing.normalize(X_test_tfidfv)\n",
    "\n",
    "print(\"After vectorizations\")\n",
    "\n",
    "print(X_train_tfidf.shape, y_train.shape)\n",
    "print(X_test_tfidf.shape, y_test.shape)"
   ]
  },
  {
   "cell_type": "markdown",
   "metadata": {},
   "source": [
    "#### Hyperparameter tuning - max_depth and n_estimators"
   ]
  },
  {
   "cell_type": "code",
   "execution_count": 45,
   "metadata": {
    "ExecuteTime": {
     "end_time": "2019-07-02T17:07:48.400955Z",
     "start_time": "2019-07-02T17:06:15.471258Z"
    }
   },
   "outputs": [
    {
     "name": "stdout",
     "output_type": "stream",
     "text": [
      "Results for CV data\n",
      "   mean_test_score  std_test_score                                  params\n",
      "0         0.917733        0.001962  {'n_estimators': 250, 'max_depth': 20}\n",
      "1         0.913729        0.001568  {'n_estimators': 100, 'max_depth': 20}\n",
      "2         0.858540        0.008778    {'n_estimators': 50, 'max_depth': 5}\n",
      "3         0.897620        0.003007  {'n_estimators': 100, 'max_depth': 10}\n",
      "4         0.901200        0.001497   {'n_estimators': 50, 'max_depth': 15}\n",
      "5         0.906003        0.001307   {'n_estimators': 50, 'max_depth': 20}\n",
      "6         0.905758        0.003503  {'n_estimators': 500, 'max_depth': 10}\n",
      "7         0.908383        0.001634  {'n_estimators': 100, 'max_depth': 15}\n",
      "8         0.913753        0.002035  {'n_estimators': 500, 'max_depth': 15}\n",
      "9         0.888653        0.005133   {'n_estimators': 250, 'max_depth': 5}\n"
     ]
    }
   ],
   "source": [
    "from sklearn.ensemble import RandomForestClassifier\n",
    "from sklearn.model_selection import RandomizedSearchCV\n",
    "from sklearn.metrics import roc_auc_score\n",
    "import math\n",
    "\n",
    "cl = RandomForestClassifier(class_weight=\"balanced\")\n",
    "parameters = {'max_depth': [5, 10, 15, 20],\n",
    "              'n_estimators': [50, 100, 250, 500]}\n",
    "\n",
    "\n",
    "# Creating an instance of GCV that performs a 3 fold cross validation by applying Linear SVC on the data\n",
    "# with roc_auc as the performance metric and taking a set of parameters in the form of alpha\n",
    "clf = RandomizedSearchCV(cl, parameters, cv=3,\n",
    "                         scoring='roc_auc', n_jobs=-1, n_iter=10)\n",
    "\n",
    "# fitting with train data\n",
    "clf.fit(X_train_tfidf, y_train)\n",
    "\n",
    "# observing the results- mean auc score, std deviation and the alpha values\n",
    "print(\"Results for CV data\")\n",
    "print(pd.DataFrame(clf.cv_results_)[\n",
    "      ['mean_test_score', 'std_test_score', 'params']])"
   ]
  },
  {
   "cell_type": "markdown",
   "metadata": {},
   "source": [
    "####  Creating a heatmap\n",
    "Which helps us to undertand how a quantity is affected by the combination of two other quantites in every possible way."
   ]
  },
  {
   "cell_type": "code",
   "execution_count": 47,
   "metadata": {
    "ExecuteTime": {
     "end_time": "2019-07-02T17:07:48.576552Z",
     "start_time": "2019-07-02T17:07:48.410925Z"
    }
   },
   "outputs": [
    {
     "data": {
      "text/plain": [
       "<matplotlib.axes._subplots.AxesSubplot at 0x10e957487f0>"
      ]
     },
     "execution_count": 47,
     "metadata": {},
     "output_type": "execute_result"
    },
    {
     "data": {
      "image/png": "[encoded data removed]",
      "text/plain": [
       "<Figure size 504x504 with 2 Axes>"
      ]
     },
     "metadata": {
      "needs_background": "light"
     },
     "output_type": "display_data"
    }
   ],
   "source": [
    "cd = pd.DataFrame(clf.cv_results_)[\n",
    "    ['mean_test_score', 'std_test_score', 'params']]\n",
    "\n",
    "# Creating a heatmap\n",
    "# Which helps us to undertand how a quantity is affected by the combination of two other quantites in every possible way.\n",
    "\n",
    "# Splitting dictionary in the pandas column into seperate columns\n",
    "pt = pd.concat([cd.drop(['params'], axis=1),\n",
    "                cd[\"params\"].apply(pd.Series)], axis=1)\n",
    "\n",
    "# Creating a heat map\n",
    "# A pivot table to feed the data to the heat map\n",
    "pivot_tab = pt.pivot(\"n_estimators\", \"max_depth\", \"mean_test_score\")\n",
    "plt.figure(figsize=(7, 7))\n",
    "plt.xlabel(\"max_depth\")\n",
    "plt.ylabel(\"n_estimators\")\n",
    "plt.title(\"Heat map to see how auc changes with max depth and n_estimators\")\n",
    "sns.heatmap(pivot_tab, annot=True)"
   ]
  },
  {
   "cell_type": "markdown",
   "metadata": {
    "ExecuteTime": {
     "end_time": "2019-07-03T18:15:21.540129Z",
     "start_time": "2019-07-03T18:15:21.534143Z"
    }
   },
   "source": [
    "#### Observation\n",
    "1. The AUC is max for depth = 20 and n_estimators = 250. But model overfitted on our train data for thes values.\n",
    "2. Let's choose some optimal values to train our model so that it doesn't overfit."
   ]
  },
  {
   "cell_type": "markdown",
   "metadata": {},
   "source": [
    "#### Training our model with max_depth = 10 and n_estimators = 250"
   ]
  },
  {
   "cell_type": "code",
   "execution_count": 48,
   "metadata": {
    "ExecuteTime": {
     "end_time": "2019-07-02T17:07:53.035742Z",
     "start_time": "2019-07-02T17:07:48.577516Z"
    }
   },
   "outputs": [
    {
     "data": {
      "image/png": "[encoded data removed]",
      "text/plain": [
       "<Figure size 432x288 with 1 Axes>"
      ]
     },
     "metadata": {
      "needs_background": "light"
     },
     "output_type": "display_data"
    }
   ],
   "source": [
    "# Code Ref: Applied AI\n",
    "# https://scikit-learn.org/stable/modules/generated/sklearn.metrics.roc_curve.html#sklearn.metrics.roc_curve\n",
    "from sklearn.metrics import roc_curve, auc, accuracy_score\n",
    "import scikitplot as splot\n",
    "%matplotlib inline\n",
    "\n",
    "cl = RandomForestClassifier(\n",
    "    max_depth=10, n_estimators=250, class_weight=\"balanced\", n_jobs=-1)\n",
    "cl.fit(X_train_tfidf, y_train)\n",
    "\n",
    "\n",
    "train_fpr, train_tpr, thresholds = roc_curve(\n",
    "    y_train, cl.predict_proba(X_train_tfidf)[:, 1])\n",
    "\n",
    "#print( roc_curve(y_train, neigh.predict_proba(X_train_bow)[:,1]))\n",
    "test_fpr, test_tpr, thresholds = roc_curve(\n",
    "    y_test, cl.predict_proba(X_test_tfidf)[:, 1])\n",
    "\n",
    "# plotting the test and train auc curve - TPR v/s FPR\n",
    "plt.plot(train_fpr, train_tpr, label=\"train AUC =\" +\n",
    "         str(auc(train_fpr, train_tpr)))\n",
    "plt.plot(test_fpr, test_tpr, label=\"test AUC =\"+str(auc(test_fpr, test_tpr)))\n",
    "plt.legend()\n",
    "plt.xlabel(\"FPR\")\n",
    "plt.ylabel(\"TPR\")\n",
    "plt.title(\"ERROR PLOTS\")\n",
    "plt.show()"
   ]
  },
  {
   "cell_type": "code",
   "execution_count": 49,
   "metadata": {
    "ExecuteTime": {
     "end_time": "2019-07-02T17:07:54.186236Z",
     "start_time": "2019-07-02T17:07:53.036740Z"
    },
    "scrolled": true
   },
   "outputs": [
    {
     "name": "stdout",
     "output_type": "stream",
     "text": [
      "Train confusion matrix\n",
      "Test confusion matrix\n"
     ]
    },
    {
     "data": {
      "text/plain": [
       "<matplotlib.axes._subplots.AxesSubplot at 0x10ed79d6ac8>"
      ]
     },
     "execution_count": 49,
     "metadata": {},
     "output_type": "execute_result"
    },
    {
     "data": {
      "image/png": "[encoded data removed]",
      "text/plain": [
       "<Figure size 432x288 with 2 Axes>"
      ]
     },
     "metadata": {
      "needs_background": "light"
     },
     "output_type": "display_data"
    },
    {
     "data": {
      "image/png": "[encoded data removed]",
      "text/plain": [
       "<Figure size 432x288 with 2 Axes>"
      ]
     },
     "metadata": {
      "needs_background": "light"
     },
     "output_type": "display_data"
    }
   ],
   "source": [
    "from sklearn.metrics import confusion_matrix\n",
    "print(\"Train confusion matrix\")\n",
    "splot.metrics.plot_confusion_matrix(y_train, cl.predict(X_train_tfidf))\n",
    "\n",
    "print(\"Test confusion matrix\")\n",
    "splot.metrics.plot_confusion_matrix(y_test, cl.predict(X_test_tfidf))"
   ]
  },
  {
   "cell_type": "markdown",
   "metadata": {
    "colab_type": "text",
    "id": "HjwJEpiBLs4G"
   },
   "source": [
    "### [5.1.4] Wordcloud of top 20 important features from<font color='red'> SET 2</font>"
   ]
  },
  {
   "cell_type": "markdown",
   "metadata": {},
   "source": [
    "Word Cloud is a data visualization technique used for representing text data in which the size of each word indicates its frequency or importance. Significant textual data points can be highlighted using a word cloud. Word clouds are widely used for analyzing data from social network websites."
   ]
  },
  {
   "cell_type": "code",
   "execution_count": 50,
   "metadata": {
    "ExecuteTime": {
     "end_time": "2019-07-02T17:07:54.857551Z",
     "start_time": "2019-07-02T17:07:54.187234Z"
    },
    "colab": {},
    "colab_type": "code",
    "id": "RKJpArxmLs4G"
   },
   "outputs": [
    {
     "data": {
      "image/png": "[encoded data removed]",
      "text/plain": [
       "<Figure size 576x576 with 1 Axes>"
      ]
     },
     "metadata": {
      "needs_background": "light"
     },
     "output_type": "display_data"
    }
   ],
   "source": [
    "# Code Ref : https://www.geeksforgeeks.org/generating-word-cloud-python/\n",
    "from wordcloud import WordCloud\n",
    "ind = cl.feature_importances_\n",
    "\n",
    "features = tf_idf_vect.get_feature_names()\n",
    "positions = np.argsort(ind)[::-1]\n",
    "positions\n",
    "\n",
    "imp_features = \" \"\n",
    "for i in list(positions[0:20]):\n",
    "    imp_features += features[i] + \" \"\n",
    "\n",
    "wordcloud = WordCloud(width=800, height=800,\n",
    "                      background_color='white',\n",
    "                      stopwords=stopwords,\n",
    "                      min_font_size=10).generate(imp_features)\n",
    "\n",
    "# plot the WordCloud image\n",
    "plt.figure(figsize=(8, 8), facecolor=None)\n",
    "plt.imshow(wordcloud)\n",
    "plt.axis(\"off\")\n",
    "plt.tight_layout(pad=0)\n",
    "\n",
    "plt.show()"
   ]
  },
  {
   "cell_type": "markdown",
   "metadata": {},
   "source": [
    "#### Observation \n",
    "Based on the font size.\n",
    "1. We can infer that words NOT,LOVE,WOULD are more important because their font size is large.\n",
    "2. The other words like RECOMMEND and TERRIBLE are lesser important as their font size is small compared to other words"
   ]
  },
  {
   "cell_type": "markdown",
   "metadata": {
    "colab_type": "text",
    "id": "L0c7yH-fLs4H"
   },
   "source": [
    "### [5.1.5] Applying Random Forests on AVG W2V,<font color='red'> SET 3</font>"
   ]
  },
  {
   "cell_type": "markdown",
   "metadata": {},
   "source": [
    "#### Train - Test split and Vectorisation"
   ]
  },
  {
   "cell_type": "code",
   "execution_count": 116,
   "metadata": {
    "ExecuteTime": {
     "end_time": "2019-07-03T18:02:12.559213Z",
     "start_time": "2019-07-03T18:02:12.529346Z"
    },
    "colab": {},
    "colab_type": "code",
    "id": "sLl3_KtELs4I"
   },
   "outputs": [],
   "source": [
    "# Splitting data as train and test set to fit our model and to calculate the performance of the model\n",
    "from sklearn.model_selection import train_test_split\n",
    "\n",
    "# sent_vectors_w=preprocessing.normalize(sent_vectors)\n",
    "X_train_w, X_test_w, y_trainw, y_testw = train_test_split(\n",
    "    sent_vectors, Y, test_size=0.2)  # this is random splitting"
   ]
  },
  {
   "cell_type": "markdown",
   "metadata": {},
   "source": [
    "#### Hyperparameter tuning - max_depth and n_estimators"
   ]
  },
  {
   "cell_type": "code",
   "execution_count": 52,
   "metadata": {
    "ExecuteTime": {
     "end_time": "2019-07-02T17:16:49.748918Z",
     "start_time": "2019-07-02T17:07:54.884434Z"
    }
   },
   "outputs": [
    {
     "name": "stdout",
     "output_type": "stream",
     "text": [
      "Results for CV data\n",
      "   mean_test_score  std_test_score                                  params\n",
      "0         0.893016        0.002773   {'n_estimators': 50, 'max_depth': 15}\n",
      "1         0.898603        0.001730  {'n_estimators': 100, 'max_depth': 20}\n",
      "2         0.898561        0.001971  {'n_estimators': 100, 'max_depth': 15}\n",
      "3         0.891769        0.001269   {'n_estimators': 50, 'max_depth': 20}\n",
      "4         0.900696        0.001684  {'n_estimators': 250, 'max_depth': 15}\n",
      "5         0.893036        0.001331   {'n_estimators': 50, 'max_depth': 10}\n",
      "6         0.901528        0.002018  {'n_estimators': 250, 'max_depth': 20}\n",
      "7         0.873840        0.002921   {'n_estimators': 100, 'max_depth': 5}\n",
      "8         0.903261        0.001634  {'n_estimators': 500, 'max_depth': 20}\n",
      "9         0.901293        0.001723  {'n_estimators': 500, 'max_depth': 15}\n"
     ]
    }
   ],
   "source": [
    "from sklearn.ensemble import RandomForestClassifier\n",
    "from sklearn.model_selection import RandomizedSearchCV\n",
    "from sklearn.metrics import roc_auc_score\n",
    "import math\n",
    "\n",
    "cl = RandomForestClassifier(class_weight=\"balanced\")\n",
    "parameters = {'max_depth': [5, 10, 15, 20],\n",
    "              'n_estimators': [50, 100, 250, 500]}\n",
    "\n",
    "\n",
    "# Creating an instance of GCV that performs a 3 fold cross validation by applying Linear SVC on the data\n",
    "# with roc_auc as the performance metric and taking a set of parameters in the form of alpha\n",
    "clf = RandomizedSearchCV(cl, parameters, cv=3,\n",
    "                         scoring='roc_auc', n_jobs=-1, n_iter=10)\n",
    "\n",
    "# fitting with train data\n",
    "clf.fit(X_train_w, y_trainw)\n",
    "\n",
    "# observing the results- mean auc score, std deviation and the alpha values\n",
    "print(\"Results for CV data\")\n",
    "print(pd.DataFrame(clf.cv_results_)[\n",
    "      ['mean_test_score', 'std_test_score', 'params']])"
   ]
  },
  {
   "cell_type": "markdown",
   "metadata": {},
   "source": [
    "#### Creating a heatmap\n",
    "Which helps us to undertand how a quantity is affected by the combination of two other quantites in every possible way."
   ]
  },
  {
   "cell_type": "code",
   "execution_count": 54,
   "metadata": {
    "ExecuteTime": {
     "end_time": "2019-07-02T17:16:49.928341Z",
     "start_time": "2019-07-02T17:16:49.759760Z"
    }
   },
   "outputs": [
    {
     "data": {
      "text/plain": [
       "<matplotlib.axes._subplots.AxesSubplot at 0x10edc2f7da0>"
      ]
     },
     "execution_count": 54,
     "metadata": {},
     "output_type": "execute_result"
    },
    {
     "data": {
      "image/png": "[encoded data removed]",
      "text/plain": [
       "<Figure size 504x504 with 2 Axes>"
      ]
     },
     "metadata": {
      "needs_background": "light"
     },
     "output_type": "display_data"
    }
   ],
   "source": [
    "cd = pd.DataFrame(clf.cv_results_)[\n",
    "    ['mean_test_score', 'std_test_score', 'params']]\n",
    "\n",
    "# Splitting dictionary in the pandas column into seperate columns\n",
    "pt = pd.concat([cd.drop(['params'], axis=1),\n",
    "                cd[\"params\"].apply(pd.Series)], axis=1)\n",
    "\n",
    "# Creating a heat map\n",
    "# A pivot table to feed the data to the heat map\n",
    "pivot_tab = pt.pivot(\"n_estimators\", \"max_depth\", \"mean_test_score\")\n",
    "plt.figure(figsize=(7, 7))\n",
    "plt.xlabel(\"max_depth\")\n",
    "plt.ylabel(\"n_estimators\")\n",
    "plt.title(\"Heat map to see how auc changes with max depth and n_estimators\")\n",
    "sns.heatmap(pivot_tab, annot=True)"
   ]
  },
  {
   "cell_type": "markdown",
   "metadata": {},
   "source": [
    "#### Observation\n",
    "1. The AUC is max for depth = 20 and n_estimators = 500. But model overfitted on our train data for thes values.\n",
    "2. Let's choose some optimal values to train our model so that it doesn't overfit."
   ]
  },
  {
   "cell_type": "markdown",
   "metadata": {},
   "source": [
    "#### Training our model with max_depth = 10 and n_estimators = 250"
   ]
  },
  {
   "cell_type": "code",
   "execution_count": 117,
   "metadata": {
    "ExecuteTime": {
     "end_time": "2019-07-03T18:09:02.015040Z",
     "start_time": "2019-07-03T18:08:38.967602Z"
    }
   },
   "outputs": [
    {
     "data": {
      "image/png": "[encoded data removed]",
      "text/plain": [
       "<Figure size 432x288 with 1 Axes>"
      ]
     },
     "metadata": {
      "needs_background": "light"
     },
     "output_type": "display_data"
    },
    {
     "name": "stdout",
     "output_type": "stream",
     "text": [
      "Train confusion matrix\n",
      "Test confusion matrix\n"
     ]
    },
    {
     "data": {
      "text/plain": [
       "<matplotlib.axes._subplots.AxesSubplot at 0x10ed555d9e8>"
      ]
     },
     "execution_count": 117,
     "metadata": {},
     "output_type": "execute_result"
    },
    {
     "data": {
      "image/png": "[encoded data removed]",
      "text/plain": [
       "<Figure size 432x288 with 2 Axes>"
      ]
     },
     "metadata": {
      "needs_background": "light"
     },
     "output_type": "display_data"
    },
    {
     "data": {
      "image/png": "[encoded data removed]",
      "text/plain": [
       "<Figure size 432x288 with 2 Axes>"
      ]
     },
     "metadata": {
      "needs_background": "light"
     },
     "output_type": "display_data"
    }
   ],
   "source": [
    "# Code Ref: Applied AI\n",
    "# https://scikit-learn.org/stable/modules/generated/sklearn.metrics.roc_curve.html#sklearn.metrics.roc_curve\n",
    "from sklearn.metrics import confusion_matrix\n",
    "from sklearn.metrics import roc_curve, auc, accuracy_score\n",
    "import scikitplot as splot\n",
    "\n",
    "\n",
    "cl = RandomForestClassifier(\n",
    "    max_depth=10, n_estimators=250, class_weight=\"balanced\", n_jobs=-1)\n",
    "cl.fit(X_train_w, y_trainw)\n",
    "\n",
    "# roc_auc_score(y_true, y_score) the 2nd parameter should be probability estimates of the positive class\n",
    "# not the predicted outputs\n",
    "train_fpr, train_tpr, thresholds = roc_curve(\n",
    "    y_trainw, cl.predict_proba(X_train_w)[:, 1])\n",
    "\n",
    "#print( roc_curve(y_train, neigh.predict_proba(X_train_bow)[:,1]))\n",
    "test_fpr, test_tpr, thresholds = roc_curve(\n",
    "    y_testw, cl.predict_proba(X_test_w)[:, 1])\n",
    "\n",
    "# plotting the test and train auc curve - TPR v/s FPR\n",
    "plt.plot(train_fpr, train_tpr, label=\"train AUC =\" +\n",
    "         str(auc(train_fpr, train_tpr)))\n",
    "plt.plot(test_fpr, test_tpr, label=\"test AUC =\"+str(auc(test_fpr, test_tpr)))\n",
    "plt.legend()\n",
    "plt.xlabel(\"FPR\")\n",
    "plt.ylabel(\"TPR\")\n",
    "plt.title(\"ERROR PLOTS\")\n",
    "plt.show()\n",
    "\n",
    "print(\"Train confusion matrix\")\n",
    "splot.metrics.plot_confusion_matrix(y_trainw, cl.predict(X_train_w))\n",
    "\n",
    "print(\"Test confusion matrix\")\n",
    "splot.metrics.plot_confusion_matrix(y_testw, cl.predict(X_test_w))"
   ]
  },
  {
   "cell_type": "code",
   "execution_count": null,
   "metadata": {},
   "outputs": [],
   "source": []
  },
  {
   "cell_type": "markdown",
   "metadata": {
    "colab_type": "text",
    "id": "SHr5r9HzLs4J"
   },
   "source": [
    "### [5.1.6] Applying Random Forests on TFIDF W2V,<font color='red'> SET 4</font>"
   ]
  },
  {
   "cell_type": "markdown",
   "metadata": {},
   "source": [
    "#### Train - Test split and Vectorisation"
   ]
  },
  {
   "cell_type": "code",
   "execution_count": 91,
   "metadata": {
    "ExecuteTime": {
     "end_time": "2019-07-03T13:00:39.386017Z",
     "start_time": "2019-07-03T13:00:39.242371Z"
    },
    "colab": {},
    "colab_type": "code",
    "id": "4pdwBBK6Ls4K"
   },
   "outputs": [],
   "source": [
    "# Splitting data as train and test set to fit our model and to calculate the performance of the model\n",
    "from sklearn.model_selection import train_test_split\n",
    "from sklearn import preprocessing\n",
    "tfidf_sent_vectors_t = preprocessing.normalize(tfidf_sent_vectors)\n",
    "X_train_tw, X_test_tw, y_traintw, y_testtw = train_test_split(\n",
    "    tfidf_sent_vectors, Y, test_size=0.2)  # this is random splitting"
   ]
  },
  {
   "cell_type": "markdown",
   "metadata": {},
   "source": [
    "#### Hyperparameter tuning - max_depth and n_estimators"
   ]
  },
  {
   "cell_type": "code",
   "execution_count": 57,
   "metadata": {
    "ExecuteTime": {
     "end_time": "2019-07-02T17:23:36.954184Z",
     "start_time": "2019-07-02T17:17:26.827793Z"
    }
   },
   "outputs": [
    {
     "name": "stdout",
     "output_type": "stream",
     "text": [
      "Results for CV data\n",
      "   mean_test_score  std_test_score                                  params\n",
      "0         0.869368        0.003571   {'n_estimators': 50, 'max_depth': 15}\n",
      "1         0.879531        0.002511  {'n_estimators': 250, 'max_depth': 20}\n",
      "2         0.845414        0.003914   {'n_estimators': 100, 'max_depth': 5}\n",
      "3         0.845247        0.002037    {'n_estimators': 50, 'max_depth': 5}\n",
      "4         0.873042        0.003073  {'n_estimators': 250, 'max_depth': 10}\n",
      "5         0.873398        0.002920  {'n_estimators': 500, 'max_depth': 10}\n",
      "6         0.848683        0.004091   {'n_estimators': 250, 'max_depth': 5}\n",
      "7         0.868485        0.003656   {'n_estimators': 50, 'max_depth': 20}\n",
      "8         0.868605        0.003660   {'n_estimators': 50, 'max_depth': 10}\n",
      "9         0.874387        0.002946  {'n_estimators': 100, 'max_depth': 20}\n"
     ]
    }
   ],
   "source": [
    "from sklearn.ensemble import RandomForestClassifier\n",
    "from sklearn.model_selection import RandomizedSearchCV\n",
    "from sklearn.metrics import roc_auc_score\n",
    "import math\n",
    "\n",
    "cl = RandomForestClassifier(class_weight=\"balanced\")\n",
    "parameters = {'max_depth': [5, 10, 15, 20],\n",
    "              'n_estimators': [50, 100, 250, 500]}\n",
    "\n",
    "\n",
    "# Creating an instance of GCV that performs a 3 fold cross validation by applying Linear SVC on the data\n",
    "# with roc_auc as the performance metric and taking a set of parameters in the form of alpha\n",
    "clf = RandomizedSearchCV(cl, parameters, cv=3,\n",
    "                         scoring='roc_auc', n_jobs=-1, n_iter=10)\n",
    "\n",
    "# fitting with train data\n",
    "clf.fit(X_train_tw, y_traintw)\n",
    "\n",
    "# observing the results- mean auc score, std deviation and the alpha values\n",
    "print(\"Results for CV data\")\n",
    "print(pd.DataFrame(clf.cv_results_)[\n",
    "      ['mean_test_score', 'std_test_score', 'params']])"
   ]
  },
  {
   "cell_type": "markdown",
   "metadata": {},
   "source": [
    "####  Creating a heatmap\n",
    "#Which helps us to undertand how a quantity is affected by the combination of two other quantites in every possible way."
   ]
  },
  {
   "cell_type": "code",
   "execution_count": 59,
   "metadata": {
    "ExecuteTime": {
     "end_time": "2019-07-02T17:23:37.161664Z",
     "start_time": "2019-07-02T17:23:36.968146Z"
    }
   },
   "outputs": [
    {
     "data": {
      "text/plain": [
       "<matplotlib.axes._subplots.AxesSubplot at 0x10ed2277c50>"
      ]
     },
     "execution_count": 59,
     "metadata": {},
     "output_type": "execute_result"
    },
    {
     "data": {
      "image/png": "[encoded data removed]",
      "text/plain": [
       "<Figure size 504x504 with 2 Axes>"
      ]
     },
     "metadata": {
      "needs_background": "light"
     },
     "output_type": "display_data"
    }
   ],
   "source": [
    "cd = pd.DataFrame(clf.cv_results_)[\n",
    "    ['mean_test_score', 'std_test_score', 'params']]\n",
    "\n",
    "\n",
    "# Splitting dictionary in the pandas column into seperate columns\n",
    "pt = pd.concat([cd.drop(['params'], axis=1),\n",
    "                cd[\"params\"].apply(pd.Series)], axis=1)\n",
    "\n",
    "# Creating a heat map\n",
    "# A pivot table to feed the data to the heat map\n",
    "pivot_tab = pt.pivot(\"n_estimators\", \"max_depth\", \"mean_test_score\")\n",
    "plt.figure(figsize=(7, 7))\n",
    "plt.xlabel(\"max_depth\")\n",
    "plt.ylabel(\"n_estimators\")\n",
    "plt.title(\"Heat map to see how auc changes with max depth and n_estimators\")\n",
    "sns.heatmap(pivot_tab, annot=True)"
   ]
  },
  {
   "cell_type": "markdown",
   "metadata": {},
   "source": [
    "#### Observation\n",
    "1. The AUC is max for depth = 20 and n_estimators = 250. But model overfitted on our train data for thes values.\n",
    "2. Let's choose some optimal values to train our model so that it doesn't overfit."
   ]
  },
  {
   "cell_type": "markdown",
   "metadata": {},
   "source": [
    "#### Training our model with max_depth = 10 and n_estimators = 250"
   ]
  },
  {
   "cell_type": "code",
   "execution_count": 92,
   "metadata": {
    "ExecuteTime": {
     "end_time": "2019-07-03T13:09:42.455652Z",
     "start_time": "2019-07-03T13:09:24.459745Z"
    }
   },
   "outputs": [
    {
     "data": {
      "image/png": "[encoded data removed]",
      "text/plain": [
       "<Figure size 432x288 with 1 Axes>"
      ]
     },
     "metadata": {
      "needs_background": "light"
     },
     "output_type": "display_data"
    },
    {
     "name": "stdout",
     "output_type": "stream",
     "text": [
      "Train confusion matrix\n",
      "Test confusion matrix\n"
     ]
    },
    {
     "data": {
      "text/plain": [
       "<matplotlib.axes._subplots.AxesSubplot at 0x10ed3d41400>"
      ]
     },
     "execution_count": 92,
     "metadata": {},
     "output_type": "execute_result"
    },
    {
     "data": {
      "image/png": "[encoded data removed]",
      "text/plain": [
       "<Figure size 432x288 with 2 Axes>"
      ]
     },
     "metadata": {
      "needs_background": "light"
     },
     "output_type": "display_data"
    },
    {
     "data": {
      "image/png": "[encoded data removed]",
      "text/plain": [
       "<Figure size 432x288 with 2 Axes>"
      ]
     },
     "metadata": {
      "needs_background": "light"
     },
     "output_type": "display_data"
    }
   ],
   "source": [
    "# Code Ref: Applied AI\n",
    "# https://scikit-learn.org/stable/modules/generated/sklearn.metrics.roc_curve.html#sklearn.metrics.roc_curve\n",
    "from sklearn.metrics import confusion_matrix\n",
    "from sklearn.metrics import roc_curve, auc, accuracy_score\n",
    "import scikitplot as splot\n",
    "\n",
    "\n",
    "cl = RandomForestClassifier(\n",
    "    max_depth=10, n_estimators=250, class_weight=\"balanced\", n_jobs=-1)\n",
    "cl.fit(X_train_tw, y_traintw)\n",
    "\n",
    "# roc_auc_score(y_true, y_score) the 2nd parameter should be probability estimates of the positive class\n",
    "# not the predicted outputs\n",
    "train_fpr, train_tpr, thresholds = roc_curve(\n",
    "    y_traintw, cl.predict_proba(X_train_tw)[:, 1])\n",
    "\n",
    "#print( roc_curve(y_train, neigh.predict_proba(X_train_bow)[:,1]))\n",
    "test_fpr, test_tpr, thresholds = roc_curve(\n",
    "    y_testtw, cl.predict_proba(X_test_tw)[:, 1])\n",
    "\n",
    "# plotting the test and train auc curve - TPR v/s FPR\n",
    "plt.plot(train_fpr, train_tpr, label=\"train AUC =\" +\n",
    "         str(auc(train_fpr, train_tpr)))\n",
    "plt.plot(test_fpr, test_tpr, label=\"test AUC =\"+str(auc(test_fpr, test_tpr)))\n",
    "plt.legend()\n",
    "plt.xlabel(\"FPR\")\n",
    "plt.ylabel(\"TPR\")\n",
    "plt.title(\"ERROR PLOTS\")\n",
    "plt.show()\n",
    "\n",
    "\n",
    "print(\"Train confusion matrix\")\n",
    "splot.metrics.plot_confusion_matrix(y_traintw, cl.predict(X_train_tw))\n",
    "\n",
    "print(\"Test confusion matrix\")\n",
    "splot.metrics.plot_confusion_matrix(y_testtw, cl.predict(X_test_tw))"
   ]
  },
  {
   "cell_type": "markdown",
   "metadata": {
    "colab_type": "text",
    "id": "SIn8pwLdLs4L"
   },
   "source": [
    "## [5.2] Applying GBDT using XGBOOST"
   ]
  },
  {
   "cell_type": "markdown",
   "metadata": {
    "colab_type": "text",
    "id": "8YoGGV7hLs4L"
   },
   "source": [
    "### [5.2.1] Applying XGBOOST on BOW,<font color='red'> SET 1</font>"
   ]
  },
  {
   "cell_type": "code",
   "execution_count": 93,
   "metadata": {
    "ExecuteTime": {
     "end_time": "2019-07-03T13:22:11.559020Z",
     "start_time": "2019-07-03T13:22:11.484661Z"
    },
    "colab": {},
    "colab_type": "code",
    "id": "KAxKETrMLs4L"
   },
   "outputs": [
    {
     "data": {
      "text/plain": [
       "1    73592\n",
       "0    14181\n",
       "Name: Score, dtype: int64"
      ]
     },
     "execution_count": 93,
     "metadata": {},
     "output_type": "execute_result"
    }
   ],
   "source": [
    "final['preprocessed'] = preprocessed_reviews\n",
    "\n",
    "# Creating the feature vector X and target class vector y\n",
    "X = final['preprocessed']\n",
    "Y = final['Score']\n",
    "\n",
    "# let's check the count of each class\n",
    "Y.value_counts()"
   ]
  },
  {
   "cell_type": "markdown",
   "metadata": {},
   "source": [
    "#### Train - Test split"
   ]
  },
  {
   "cell_type": "code",
   "execution_count": 94,
   "metadata": {
    "ExecuteTime": {
     "end_time": "2019-07-03T13:33:30.175346Z",
     "start_time": "2019-07-03T13:33:30.157394Z"
    },
    "colab": {},
    "colab_type": "code",
    "id": "94IpgcgPLs4N"
   },
   "outputs": [],
   "source": [
    "# Splitting data as train and test set to fit our model and to calculate the performance of the model\n",
    "from sklearn.model_selection import train_test_split\n",
    "X_train, X_test, y_train, y_test = train_test_split(\n",
    "    X, Y, test_size=0.2)  # this is random splitting"
   ]
  },
  {
   "cell_type": "markdown",
   "metadata": {},
   "source": [
    "#### Vectorisation"
   ]
  },
  {
   "cell_type": "code",
   "execution_count": 95,
   "metadata": {
    "ExecuteTime": {
     "end_time": "2019-07-03T13:42:12.247129Z",
     "start_time": "2019-07-03T13:41:58.639497Z"
    }
   },
   "outputs": [
    {
     "name": "stdout",
     "output_type": "stream",
     "text": [
      "Shape of train and test set\n",
      "(70218,) (70218,)\n",
      "(17555,) (17555,)\n",
      "====================================================================================================\n"
     ]
    }
   ],
   "source": [
    "# importing library\n",
    "from sklearn.feature_extraction.text import CountVectorizer\n",
    "from sklearn import preprocessing\n",
    "\n",
    "print(\"Shape of train and test set\")\n",
    "print(X_train.shape, y_train.shape)\n",
    "print(X_test.shape, y_test.shape)\n",
    "\n",
    "print(\"=\"*100)\n",
    "\n",
    "# Applying Bag of Words on our data\n",
    "# Fit_transform the test data and transform  the test data, this is done to prevent data leakage\n",
    "\n",
    "\n",
    "# creating an instance of the count vectoriser to produce bi grams and with maximum fearures being 5000\n",
    "# countvectorizer takes in the text data and returns the matrix of token counts which is sparse by default\n",
    "\n",
    "vectorizer = CountVectorizer(ngram_range=(1, 2), min_df=10, max_features=5000)\n",
    "vectorizer.fit(X_train)  # fit has to happen only on train data\n",
    "\n",
    "# we use the fitted CountVectorizer to convert the text to vector\n",
    "X_train_bow = vectorizer.transform(X_train)\n",
    "X_test_bow = vectorizer.transform(X_test)\n",
    "\n",
    "# Normalise the data to ensure both are on bthe same scale\n",
    "X_train_bown = preprocessing.normalize(X_train_bow)\n",
    "X_test_bown = preprocessing.normalize(X_test_bow)"
   ]
  },
  {
   "cell_type": "markdown",
   "metadata": {},
   "source": [
    "#### Hyperparameter tuning - max_depth and n_estimators"
   ]
  },
  {
   "cell_type": "code",
   "execution_count": 64,
   "metadata": {
    "ExecuteTime": {
     "end_time": "2019-07-02T17:32:45.416644Z",
     "start_time": "2019-07-02T17:24:11.558867Z"
    }
   },
   "outputs": [
    {
     "name": "stderr",
     "output_type": "stream",
     "text": [
      "C:\\Users\\adars\\Anaconda3\\lib\\site-packages\\sklearn\\externals\\joblib\\externals\\loky\\process_executor.py:706: UserWarning: A worker stopped while some jobs were given to the executor. This can be caused by a too short worker timeout or by a memory leak.\n",
      "  \"timeout or by a memory leak.\", UserWarning\n",
      "C:\\Users\\adars\\Anaconda3\\lib\\site-packages\\sklearn\\externals\\joblib\\externals\\loky\\process_executor.py:706: UserWarning: A worker stopped while some jobs were given to the executor. This can be caused by a too short worker timeout or by a memory leak.\n",
      "  \"timeout or by a memory leak.\", UserWarning\n",
      "C:\\Users\\adars\\Anaconda3\\lib\\site-packages\\sklearn\\externals\\joblib\\externals\\loky\\process_executor.py:706: UserWarning: A worker stopped while some jobs were given to the executor. This can be caused by a too short worker timeout or by a memory leak.\n",
      "  \"timeout or by a memory leak.\", UserWarning\n",
      "C:\\Users\\adars\\Anaconda3\\lib\\site-packages\\sklearn\\externals\\joblib\\externals\\loky\\process_executor.py:706: UserWarning: A worker stopped while some jobs were given to the executor. This can be caused by a too short worker timeout or by a memory leak.\n",
      "  \"timeout or by a memory leak.\", UserWarning\n",
      "C:\\Users\\adars\\Anaconda3\\lib\\site-packages\\sklearn\\externals\\joblib\\externals\\loky\\process_executor.py:706: UserWarning: A worker stopped while some jobs were given to the executor. This can be caused by a too short worker timeout or by a memory leak.\n",
      "  \"timeout or by a memory leak.\", UserWarning\n",
      "C:\\Users\\adars\\Anaconda3\\lib\\site-packages\\sklearn\\externals\\joblib\\externals\\loky\\process_executor.py:706: UserWarning: A worker stopped while some jobs were given to the executor. This can be caused by a too short worker timeout or by a memory leak.\n",
      "  \"timeout or by a memory leak.\", UserWarning\n",
      "C:\\Users\\adars\\Anaconda3\\lib\\site-packages\\sklearn\\externals\\joblib\\externals\\loky\\process_executor.py:706: UserWarning: A worker stopped while some jobs were given to the executor. This can be caused by a too short worker timeout or by a memory leak.\n",
      "  \"timeout or by a memory leak.\", UserWarning\n",
      "C:\\Users\\adars\\Anaconda3\\lib\\site-packages\\sklearn\\externals\\joblib\\externals\\loky\\process_executor.py:706: UserWarning: A worker stopped while some jobs were given to the executor. This can be caused by a too short worker timeout or by a memory leak.\n",
      "  \"timeout or by a memory leak.\", UserWarning\n"
     ]
    },
    {
     "name": "stdout",
     "output_type": "stream",
     "text": [
      "Results for CV data\n",
      "   mean_test_score  std_test_score                                 params\n",
      "0         0.938351        0.000360  {'n_estimators': 250, 'max_depth': 7}\n",
      "1         0.924303        0.000152  {'n_estimators': 100, 'max_depth': 9}\n",
      "2         0.852018        0.002102   {'n_estimators': 50, 'max_depth': 3}\n",
      "3         0.885143        0.002008  {'n_estimators': 100, 'max_depth': 3}\n",
      "4         0.876557        0.002313   {'n_estimators': 50, 'max_depth': 5}\n",
      "5         0.901435        0.000887   {'n_estimators': 50, 'max_depth': 9}\n",
      "6         0.948204        0.000840  {'n_estimators': 500, 'max_depth': 9}\n",
      "7         0.918694        0.000899  {'n_estimators': 250, 'max_depth': 3}\n",
      "8         0.941544        0.000279  {'n_estimators': 250, 'max_depth': 9}\n",
      "9         0.932295        0.000497  {'n_estimators': 250, 'max_depth': 5}\n"
     ]
    }
   ],
   "source": [
    "from xgboost import XGBClassifier\n",
    "from sklearn.model_selection import RandomizedSearchCV\n",
    "from sklearn.metrics import roc_auc_score\n",
    "import math\n",
    "\n",
    "cl = XGBClassifier(class_weight=\"balanced\")\n",
    "parameters = {'max_depth': [1, 3, 5, 7, 9],\n",
    "              'n_estimators': [50, 100, 250, 500]}\n",
    "\n",
    "# Creating an instance of GCV that performs a 3 fold cross validation by applying Linear SVC on the data\n",
    "# with roc_auc as the performance metric and taking a set of parameters in the form of alpha\n",
    "clf = RandomizedSearchCV(cl, parameters, cv=3,\n",
    "                         scoring='roc_auc', n_jobs=-1, n_iter=10)\n",
    "\n",
    "# fitting with train data\n",
    "clf.fit(X_train_bow, y_train)\n",
    "\n",
    "# observing the results- mean auc score, std deviation and the alpha values\n",
    "print(\"Results for CV data\")\n",
    "print(pd.DataFrame(clf.cv_results_)[\n",
    "      ['mean_test_score', 'std_test_score', 'params']])"
   ]
  },
  {
   "cell_type": "markdown",
   "metadata": {},
   "source": [
    "#### Creating a heatmap\n",
    "#Which helps us to undertand how a quantity is affected by the combination of two other quantites in every possible way."
   ]
  },
  {
   "cell_type": "code",
   "execution_count": 66,
   "metadata": {
    "ExecuteTime": {
     "end_time": "2019-07-02T17:32:45.610117Z",
     "start_time": "2019-07-02T17:32:45.426607Z"
    }
   },
   "outputs": [
    {
     "data": {
      "text/plain": [
       "<matplotlib.axes._subplots.AxesSubplot at 0x10ed2277908>"
      ]
     },
     "execution_count": 66,
     "metadata": {},
     "output_type": "execute_result"
    },
    {
     "data": {
      "image/png": "[encoded data removed]",
      "text/plain": [
       "<Figure size 504x504 with 2 Axes>"
      ]
     },
     "metadata": {
      "needs_background": "light"
     },
     "output_type": "display_data"
    }
   ],
   "source": [
    "cd = pd.DataFrame(clf.cv_results_)[\n",
    "    ['mean_test_score', 'std_test_score', 'params']]\n",
    "\n",
    "\n",
    "# Splitting dictionary in the pandas column into seperate columns\n",
    "pt = pd.concat([cd.drop(['params'], axis=1),\n",
    "                cd[\"params\"].apply(pd.Series)], axis=1)\n",
    "\n",
    "# Creating a heat map\n",
    "# A pivot table to feed the data to the heat map\n",
    "pivot_tab = pt.pivot(\"n_estimators\", \"max_depth\", \"mean_test_score\")\n",
    "plt.figure(figsize=(7, 7))\n",
    "plt.xlabel(\"max_depth\")\n",
    "plt.ylabel(\"n_estimators\")\n",
    "plt.title(\"Heat map to see how auc changes with max depth and n_estimators\")\n",
    "sns.heatmap(pivot_tab, annot=True)"
   ]
  },
  {
   "cell_type": "markdown",
   "metadata": {},
   "source": [
    "#### Observation\n",
    "1. The AUC is max for depth = 9 and n_estimators = 500. But model overfitted on our train data for thes values.\n",
    "2. Let's choose some optimal values to train our model so that it doesn't overfit."
   ]
  },
  {
   "cell_type": "markdown",
   "metadata": {},
   "source": [
    "#### Training our model with max_depth = 5 and n_estimators = 250"
   ]
  },
  {
   "cell_type": "code",
   "execution_count": 96,
   "metadata": {
    "ExecuteTime": {
     "end_time": "2019-07-03T13:51:24.249400Z",
     "start_time": "2019-07-03T13:50:29.740598Z"
    }
   },
   "outputs": [
    {
     "data": {
      "image/png": "[encoded data removed]",
      "text/plain": [
       "<Figure size 432x288 with 1 Axes>"
      ]
     },
     "metadata": {
      "needs_background": "light"
     },
     "output_type": "display_data"
    },
    {
     "name": "stdout",
     "output_type": "stream",
     "text": [
      "Train confusion matrix\n",
      "Test confusion matrix\n"
     ]
    },
    {
     "data": {
      "text/plain": [
       "<matplotlib.axes._subplots.AxesSubplot at 0x10ee12dfb38>"
      ]
     },
     "execution_count": 96,
     "metadata": {},
     "output_type": "execute_result"
    },
    {
     "data": {
      "image/png": "[encoded data removed]",
      "text/plain": [
       "<Figure size 432x288 with 2 Axes>"
      ]
     },
     "metadata": {
      "needs_background": "light"
     },
     "output_type": "display_data"
    },
    {
     "data": {
      "image/png": "[encoded data removed]",
      "text/plain": [
       "<Figure size 432x288 with 2 Axes>"
      ]
     },
     "metadata": {
      "needs_background": "light"
     },
     "output_type": "display_data"
    }
   ],
   "source": [
    "# Code Ref: Applied AI\n",
    "# https://scikit-learn.org/stable/modules/generated/sklearn.metrics.roc_curve.html#sklearn.metrics.roc_curve\n",
    "from sklearn.metrics import confusion_matrix\n",
    "from sklearn.metrics import roc_curve, auc, accuracy_score\n",
    "import scikitplot as splot\n",
    "\n",
    "\n",
    "cl = XGBClassifier(max_depth=5, n_estimators=250,\n",
    "                   class_weight=\"balanced\", n_jobs=-1)\n",
    "cl.fit(X_train_bow, y_train)\n",
    "\n",
    "# roc_auc_score(y_true, y_score) the 2nd parameter should be probability estimates of the positive class\n",
    "# not the predicted outputs\n",
    "train_fpr, train_tpr, thresholds = roc_curve(\n",
    "    y_train, cl.predict_proba(X_train_bow)[:, 1])\n",
    "\n",
    "#print( roc_curve(y_train, neigh.predict_proba(X_train_bow)[:,1]))\n",
    "test_fpr, test_tpr, thresholds = roc_curve(\n",
    "    y_test, cl.predict_proba(X_test_bow)[:, 1])\n",
    "\n",
    "# plotting the test and train auc curve - TPR v/s FPR\n",
    "plt.plot(train_fpr, train_tpr, label=\"train AUC =\" +\n",
    "         str(auc(train_fpr, train_tpr)))\n",
    "plt.plot(test_fpr, test_tpr, label=\"test AUC =\"+str(auc(test_fpr, test_tpr)))\n",
    "plt.legend()\n",
    "plt.xlabel(\"FPR\")\n",
    "plt.ylabel(\"TPR\")\n",
    "plt.title(\"ERROR PLOTS\")\n",
    "plt.show()\n",
    "\n",
    "\n",
    "print(\"Train confusion matrix\")\n",
    "splot.metrics.plot_confusion_matrix(y_train, cl.predict(X_train_bow))\n",
    "\n",
    "print(\"Test confusion matrix\")\n",
    "splot.metrics.plot_confusion_matrix(y_test, cl.predict(X_test_bow))"
   ]
  },
  {
   "cell_type": "markdown",
   "metadata": {
    "colab_type": "text",
    "id": "u5_lHeZuLs4N"
   },
   "source": [
    "### [5.2.2] Applying XGBOOST on TFIDF,<font color='red'> SET 2</font>"
   ]
  },
  {
   "cell_type": "code",
   "execution_count": 108,
   "metadata": {
    "ExecuteTime": {
     "end_time": "2019-07-03T17:16:04.001255Z",
     "start_time": "2019-07-03T17:16:03.979282Z"
    }
   },
   "outputs": [
    {
     "data": {
      "text/plain": [
       "1    73592\n",
       "0    14181\n",
       "Name: Score, dtype: int64"
      ]
     },
     "execution_count": 108,
     "metadata": {},
     "output_type": "execute_result"
    }
   ],
   "source": [
    "final['preprocessed'] = preprocessed_reviews\n",
    "\n",
    "# Creating the feature vector X and target class vector y\n",
    "X = final['preprocessed']\n",
    "Y = final['Score']\n",
    "\n",
    "# let's check the count of each class\n",
    "Y.value_counts()"
   ]
  },
  {
   "cell_type": "markdown",
   "metadata": {},
   "source": [
    "#### Train - Test split"
   ]
  },
  {
   "cell_type": "code",
   "execution_count": 109,
   "metadata": {
    "ExecuteTime": {
     "end_time": "2019-07-03T17:20:52.302017Z",
     "start_time": "2019-07-03T17:20:52.286938Z"
    }
   },
   "outputs": [],
   "source": [
    "# Splitting data as train and test set to fit our model and to calculate the performance of the model\n",
    "from sklearn.model_selection import train_test_split\n",
    "\n",
    "X_train, X_test, y_train, y_test = train_test_split(\n",
    "    X, Y, test_size=0.2)  # this is random splitting"
   ]
  },
  {
   "cell_type": "markdown",
   "metadata": {},
   "source": [
    "#### Vectorisation"
   ]
  },
  {
   "cell_type": "code",
   "execution_count": 110,
   "metadata": {
    "ExecuteTime": {
     "end_time": "2019-07-03T17:25:47.884811Z",
     "start_time": "2019-07-03T17:25:34.855631Z"
    }
   },
   "outputs": [
    {
     "name": "stdout",
     "output_type": "stream",
     "text": [
      "Shape of train and test set\n",
      "(70218,) (70218,)\n",
      "(17555,) (17555,)\n",
      "some sample features(unique words in the corpus) ['ability', 'able', 'able buy', 'able find', 'able get', 'absolute', 'absolute favorite', 'absolutely', 'absolutely best', 'absolutely delicious']\n",
      "==================================================\n",
      "After vectorizations\n",
      "(70218, 5000) (70218,)\n",
      "(17555, 5000) (17555,)\n"
     ]
    }
   ],
   "source": [
    "# importing library\n",
    "from sklearn import preprocessing\n",
    "\n",
    "print(\"Shape of train and test set\")\n",
    "print(X_train.shape, y_train.shape)\n",
    "print(X_test.shape, y_test.shape)\n",
    "\n",
    "# Applying TF-idf on our data\n",
    "# Fit_transform the test data and transform  the test data, this is done to prevent data leakage\n",
    "\n",
    "tf_idf_vect = TfidfVectorizer(ngram_range=(1, 2), max_features=5000)\n",
    "# Fit the train data\n",
    "tf_idf_vect.fit(X_train)\n",
    "print(\"some sample features(unique words in the corpus)\",\n",
    "      tf_idf_vect.get_feature_names()[0:10])\n",
    "print('='*50)\n",
    "\n",
    "# transform train and test data\n",
    "X_train_tfidfv = tf_idf_vect.transform(X_train)\n",
    "X_test_tfidfv = tf_idf_vect.transform(X_test)\n",
    "\n",
    "# Normalise the data to ensure both are on the same scale\n",
    "X_train_tfidf = preprocessing.normalize(X_train_tfidfv)\n",
    "X_test_tfidf = preprocessing.normalize(X_test_tfidfv)\n",
    "\n",
    "print(\"After vectorizations\")\n",
    "\n",
    "print(X_train_tfidf.shape, y_train.shape)\n",
    "print(X_test_tfidf.shape, y_test.shape)"
   ]
  },
  {
   "cell_type": "markdown",
   "metadata": {},
   "source": [
    "#### Hyperparameter tuning - max_depth and n_estimators"
   ]
  },
  {
   "cell_type": "code",
   "execution_count": 71,
   "metadata": {
    "ExecuteTime": {
     "end_time": "2019-07-02T17:54:23.422872Z",
     "start_time": "2019-07-02T17:34:12.006227Z"
    }
   },
   "outputs": [
    {
     "name": "stdout",
     "output_type": "stream",
     "text": [
      "Results for CV data\n",
      "   mean_test_score  std_test_score                                 params\n",
      "0         0.907434        0.002903  {'n_estimators': 100, 'max_depth': 5}\n",
      "1         0.946190        0.001945  {'n_estimators': 500, 'max_depth': 7}\n",
      "2         0.947262        0.002031  {'n_estimators': 500, 'max_depth': 9}\n",
      "3         0.903402        0.001769  {'n_estimators': 500, 'max_depth': 1}\n",
      "4         0.788917        0.003217   {'n_estimators': 50, 'max_depth': 1}\n",
      "5         0.877334        0.004280   {'n_estimators': 50, 'max_depth': 5}\n",
      "6         0.899811        0.003325   {'n_estimators': 50, 'max_depth': 9}\n",
      "7         0.943461        0.002117  {'n_estimators': 500, 'max_depth': 5}\n",
      "8         0.919601        0.002537  {'n_estimators': 250, 'max_depth': 3}\n",
      "9         0.828487        0.004272  {'n_estimators': 100, 'max_depth': 1}\n"
     ]
    }
   ],
   "source": [
    "from xgboost import XGBClassifier\n",
    "from sklearn.model_selection import RandomizedSearchCV\n",
    "from sklearn.metrics import roc_auc_score\n",
    "import math\n",
    "\n",
    "cl = XGBClassifier(class_weight=\"balanced\")\n",
    "parameters = {'max_depth': [1, 3, 5, 7, 9],\n",
    "              'n_estimators': [50, 100, 250, 500]}\n",
    "\n",
    "# Creating an instance of GCV that performs a 3 fold cross validation by applying Linear SVC on the data\n",
    "# with roc_auc as the performance metric and taking a set of parameters in the form of alpha\n",
    "clf = RandomizedSearchCV(cl, parameters, cv=3,\n",
    "                         scoring='roc_auc', n_jobs=-1, n_iter=10)\n",
    "\n",
    "# fitting with train data\n",
    "clf.fit(X_train_tfidf, y_train)\n",
    "\n",
    "# observing the results- mean auc score, std deviation and the alpha values\n",
    "print(\"Results for CV data\")\n",
    "print(pd.DataFrame(clf.cv_results_)[\n",
    "      ['mean_test_score', 'std_test_score', 'params']])"
   ]
  },
  {
   "cell_type": "markdown",
   "metadata": {},
   "source": [
    "#### Creating a heatmap\n",
    "#Which helps us to undertand how a quantity is affected by the combination of two other quantites in every possible way."
   ]
  },
  {
   "cell_type": "code",
   "execution_count": 73,
   "metadata": {
    "ExecuteTime": {
     "end_time": "2019-07-02T17:54:23.616355Z",
     "start_time": "2019-07-02T17:54:23.432815Z"
    }
   },
   "outputs": [
    {
     "data": {
      "text/plain": [
       "<matplotlib.axes._subplots.AxesSubplot at 0x10ed8c759b0>"
      ]
     },
     "execution_count": 73,
     "metadata": {},
     "output_type": "execute_result"
    },
    {
     "data": {
      "image/png": "[encoded data removed]",
      "text/plain": [
       "<Figure size 504x504 with 2 Axes>"
      ]
     },
     "metadata": {
      "needs_background": "light"
     },
     "output_type": "display_data"
    }
   ],
   "source": [
    "cd = pd.DataFrame(clf.cv_results_)[\n",
    "    ['mean_test_score', 'std_test_score', 'params']]\n",
    "\n",
    "\n",
    "# Splitting dictionary in the pandas column into seperate columns\n",
    "pt = pd.concat([cd.drop(['params'], axis=1),\n",
    "                cd[\"params\"].apply(pd.Series)], axis=1)\n",
    "\n",
    "# Creating a heat map\n",
    "# A pivot table to feed the data to the heat map\n",
    "pivot_tab = pt.pivot(\"n_estimators\", \"max_depth\", \"mean_test_score\")\n",
    "plt.figure(figsize=(7, 7))\n",
    "plt.xlabel(\"max_depth\")\n",
    "plt.ylabel(\"n_estimators\")\n",
    "plt.title(\"Heat map to see how auc changes with max depth and n_estimators\")\n",
    "sns.heatmap(pivot_tab, annot=True)"
   ]
  },
  {
   "cell_type": "markdown",
   "metadata": {},
   "source": [
    "#### Observation\n",
    "1. The AUC is max for depth = 9 and n_estimators = 500. But model overfitted on our train data for thes values.\n",
    "2. Let's choose some optimal values to train our model so that it doesn't overfit."
   ]
  },
  {
   "cell_type": "markdown",
   "metadata": {},
   "source": [
    "#### Training our model with max_depth = 5 and n_estimators = 250"
   ]
  },
  {
   "cell_type": "code",
   "execution_count": 111,
   "metadata": {
    "ExecuteTime": {
     "end_time": "2019-07-03T17:32:34.114260Z",
     "start_time": "2019-07-03T17:30:29.922548Z"
    }
   },
   "outputs": [
    {
     "data": {
      "image/png": "[encoded data removed]",
      "text/plain": [
       "<Figure size 432x288 with 1 Axes>"
      ]
     },
     "metadata": {
      "needs_background": "light"
     },
     "output_type": "display_data"
    },
    {
     "name": "stdout",
     "output_type": "stream",
     "text": [
      "Train confusion matrix\n",
      "Test confusion matrix\n"
     ]
    },
    {
     "data": {
      "text/plain": [
       "<matplotlib.axes._subplots.AxesSubplot at 0x10eddc1ea58>"
      ]
     },
     "execution_count": 111,
     "metadata": {},
     "output_type": "execute_result"
    },
    {
     "data": {
      "image/png": "[encoded data removed]",
      "text/plain": [
       "<Figure size 432x288 with 2 Axes>"
      ]
     },
     "metadata": {
      "needs_background": "light"
     },
     "output_type": "display_data"
    },
    {
     "data": {
      "image/png": "[encoded data removed]",
      "text/plain": [
       "<Figure size 432x288 with 2 Axes>"
      ]
     },
     "metadata": {
      "needs_background": "light"
     },
     "output_type": "display_data"
    }
   ],
   "source": [
    "# Code Ref: Applied AI\n",
    "# https://scikit-learn.org/stable/modules/generated/sklearn.metrics.roc_curve.html#sklearn.metrics.roc_curve\n",
    "from sklearn.metrics import confusion_matrix\n",
    "from sklearn.metrics import roc_curve, auc, accuracy_score\n",
    "import scikitplot as splot\n",
    "\n",
    "\n",
    "cl = XGBClassifier(max_depth=5, n_estimators=250,\n",
    "                   class_weight=\"balanced\", n_jobs=-1)\n",
    "cl.fit(X_train_tfidf, y_train)\n",
    "\n",
    "# roc_auc_score(y_true, y_score) the 2nd parameter should be probability estimates of the positive class\n",
    "# not the predicted outputs\n",
    "train_fpr, train_tpr, thresholds = roc_curve(\n",
    "    y_train, cl.predict_proba(X_train_tfidf)[:, 1])\n",
    "\n",
    "#print( roc_curve(y_train, neigh.predict_proba(X_train_bow)[:,1]))\n",
    "test_fpr, test_tpr, thresholds = roc_curve(\n",
    "    y_test, cl.predict_proba(X_test_tfidf)[:, 1])\n",
    "\n",
    "# plotting the test and train auc curve - TPR v/s FPR\n",
    "plt.plot(train_fpr, train_tpr, label=\"train AUC =\" +\n",
    "         str(auc(train_fpr, train_tpr)))\n",
    "plt.plot(test_fpr, test_tpr, label=\"test AUC =\"+str(auc(test_fpr, test_tpr)))\n",
    "plt.legend()\n",
    "plt.xlabel(\"FPR\")\n",
    "plt.ylabel(\"TPR\")\n",
    "plt.title(\"ERROR PLOTS\")\n",
    "plt.show()\n",
    "\n",
    "\n",
    "print(\"Train confusion matrix\")\n",
    "splot.metrics.plot_confusion_matrix(y_train, cl.predict(X_train_tfidf))\n",
    "\n",
    "print(\"Test confusion matrix\")\n",
    "splot.metrics.plot_confusion_matrix(y_test, cl.predict(X_test_tfidf))"
   ]
  },
  {
   "cell_type": "markdown",
   "metadata": {
    "colab_type": "text",
    "id": "3b6-rEyILs4O"
   },
   "source": [
    "### [5.2.3] Applying XGBOOST on AVG W2V,<font color='red'> SET 3</font>"
   ]
  },
  {
   "cell_type": "markdown",
   "metadata": {},
   "source": [
    "#### Train - Test split and Vectorisation"
   ]
  },
  {
   "cell_type": "code",
   "execution_count": 104,
   "metadata": {
    "ExecuteTime": {
     "end_time": "2019-07-03T15:03:29.262046Z",
     "start_time": "2019-07-03T15:03:29.176153Z"
    },
    "colab": {},
    "colab_type": "code",
    "id": "3VJr_CE5Ls4P"
   },
   "outputs": [],
   "source": [
    "# Splitting data as train and test set to fit our model and to calculate the performance of the model\n",
    "from sklearn.model_selection import train_test_split\n",
    "\n",
    "# sent_vectors_w=preprocessing.normalize(sent_vectors)\n",
    "X_train_w, X_test_w, y_trainw, y_testw = train_test_split(\n",
    "    sent_vectors, Y, test_size=0.2)  # this is random splitting\n",
    "X_train_w = np.array(X_train_w)"
   ]
  },
  {
   "cell_type": "markdown",
   "metadata": {},
   "source": [
    "#### Hyperparameter tuning - max_depth and n_estimators"
   ]
  },
  {
   "cell_type": "code",
   "execution_count": 76,
   "metadata": {
    "ExecuteTime": {
     "end_time": "2019-07-02T18:09:50.337903Z",
     "start_time": "2019-07-02T17:55:39.217456Z"
    }
   },
   "outputs": [
    {
     "name": "stdout",
     "output_type": "stream",
     "text": [
      "Results for CV data\n",
      "   mean_test_score  std_test_score                                 params\n",
      "0         0.888664        0.002968   {'n_estimators': 50, 'max_depth': 3}\n",
      "1         0.908687        0.002168   {'n_estimators': 50, 'max_depth': 9}\n",
      "2         0.840738        0.003170   {'n_estimators': 50, 'max_depth': 1}\n",
      "3         0.917227        0.001807  {'n_estimators': 500, 'max_depth': 7}\n",
      "4         0.913462        0.001623  {'n_estimators': 250, 'max_depth': 3}\n",
      "5         0.917077        0.001550  {'n_estimators': 250, 'max_depth': 9}\n",
      "6         0.914446        0.001586  {'n_estimators': 100, 'max_depth': 7}\n",
      "7         0.893219        0.002500  {'n_estimators': 250, 'max_depth': 1}\n",
      "8         0.901458        0.002803   {'n_estimators': 50, 'max_depth': 5}\n",
      "9         0.916779        0.001236  {'n_estimators': 500, 'max_depth': 5}\n"
     ]
    }
   ],
   "source": [
    "from xgboost import XGBClassifier\n",
    "from sklearn.model_selection import RandomizedSearchCV\n",
    "from sklearn.metrics import roc_auc_score\n",
    "import math\n",
    "\n",
    "cl = XGBClassifier(class_weight=\"balanced\")\n",
    "parameters = {'max_depth': [1, 3, 5, 7, 9],\n",
    "              'n_estimators': [50, 100, 250, 500]}\n",
    "\n",
    "# Creating an instance of GCV that performs a 3 fold cross validation by applying Linear SVC on the data\n",
    "# with roc_auc as the performance metric and taking a set of parameters in the form of alpha\n",
    "clf = RandomizedSearchCV(cl, parameters, cv=3,\n",
    "                         scoring='roc_auc', n_jobs=-1, n_iter=10)\n",
    "\n",
    "# fitting with train data\n",
    "clf.fit(X_train_w, y_trainw)\n",
    "\n",
    "# observing the results- mean auc score, std deviation and the alpha values\n",
    "print(\"Results for CV data\")\n",
    "print(pd.DataFrame(clf.cv_results_)[\n",
    "      ['mean_test_score', 'std_test_score', 'params']])"
   ]
  },
  {
   "cell_type": "code",
   "execution_count": 77,
   "metadata": {
    "ExecuteTime": {
     "end_time": "2019-07-02T18:09:50.346847Z",
     "start_time": "2019-07-02T18:09:50.338868Z"
    }
   },
   "outputs": [
    {
     "name": "stdout",
     "output_type": "stream",
     "text": [
      "0.9172269816459766\n",
      "{'n_estimators': 500, 'max_depth': 7}\n",
      "XGBClassifier(base_score=0.5, booster='gbtree', class_weight='balanced',\n",
      "       colsample_bylevel=1, colsample_bynode=1, colsample_bytree=1,\n",
      "       gamma=0, learning_rate=0.1, max_delta_step=0, max_depth=7,\n",
      "       min_child_weight=1, missing=None, n_estimators=500, n_jobs=1,\n",
      "       nthread=None, objective='binary:logistic', random_state=0,\n",
      "       reg_alpha=0, reg_lambda=1, scale_pos_weight=1, seed=None,\n",
      "       silent=None, subsample=1, verbosity=1)\n"
     ]
    }
   ],
   "source": [
    "# Choosing the Hyperparamter k  based on the max auc score\n",
    "print(clf.best_score_)\n",
    "print(clf.best_params_)\n",
    "print(clf.best_estimator_)"
   ]
  },
  {
   "cell_type": "markdown",
   "metadata": {},
   "source": [
    "#### Creating a heatmap\n",
    "#Which helps us to undertand how a quantity is affected by the combination of two other quantites in every possible way."
   ]
  },
  {
   "cell_type": "code",
   "execution_count": 78,
   "metadata": {
    "ExecuteTime": {
     "end_time": "2019-07-02T18:09:50.532350Z",
     "start_time": "2019-07-02T18:09:50.347843Z"
    }
   },
   "outputs": [
    {
     "data": {
      "text/plain": [
       "<matplotlib.axes._subplots.AxesSubplot at 0x10ed85400f0>"
      ]
     },
     "execution_count": 78,
     "metadata": {},
     "output_type": "execute_result"
    },
    {
     "data": {
      "image/png": "[encoded data removed]",
      "text/plain": [
       "<Figure size 504x504 with 2 Axes>"
      ]
     },
     "metadata": {
      "needs_background": "light"
     },
     "output_type": "display_data"
    }
   ],
   "source": [
    "cd = pd.DataFrame(clf.cv_results_)[\n",
    "    ['mean_test_score', 'std_test_score', 'params']]\n",
    "\n",
    "\n",
    "# Splitting dictionary in the pandas column into seperate columns\n",
    "pt = pd.concat([cd.drop(['params'], axis=1),\n",
    "                cd[\"params\"].apply(pd.Series)], axis=1)\n",
    "\n",
    "# Creating a heat map\n",
    "# A pivot table to feed the data to the heat map\n",
    "pivot_tab = pt.pivot(\"n_estimators\", \"max_depth\", \"mean_test_score\")\n",
    "plt.figure(figsize=(7, 7))\n",
    "plt.xlabel(\"max_depth\")\n",
    "plt.ylabel(\"n_estimators\")\n",
    "plt.title(\"Heat map to see how auc changes with max depth and n_estimators\")\n",
    "sns.heatmap(pivot_tab, annot=True)"
   ]
  },
  {
   "cell_type": "markdown",
   "metadata": {},
   "source": [
    "#### Observation\n",
    "1. The AUC is max for depth = 7 and n_estimators = 500. But model overfitted on our train data for thes values.\n",
    "2. Let's choose some optimal values to train our model so that it doesn't overfit."
   ]
  },
  {
   "cell_type": "markdown",
   "metadata": {},
   "source": [
    "#### Training our model with max_depth = 5 and n_estimators = 250"
   ]
  },
  {
   "cell_type": "code",
   "execution_count": 105,
   "metadata": {
    "ExecuteTime": {
     "end_time": "2019-07-03T15:23:19.523638Z",
     "start_time": "2019-07-03T15:18:25.585369Z"
    }
   },
   "outputs": [
    {
     "data": {
      "image/png": "[encoded data removed]",
      "text/plain": [
       "<Figure size 432x288 with 1 Axes>"
      ]
     },
     "metadata": {
      "needs_background": "light"
     },
     "output_type": "display_data"
    },
    {
     "name": "stdout",
     "output_type": "stream",
     "text": [
      "Train confusion matrix\n",
      "Test confusion matrix\n"
     ]
    },
    {
     "data": {
      "text/plain": [
       "<matplotlib.axes._subplots.AxesSubplot at 0x10ed71843c8>"
      ]
     },
     "execution_count": 105,
     "metadata": {},
     "output_type": "execute_result"
    },
    {
     "data": {
      "image/png": "[encoded data removed]",
      "text/plain": [
       "<Figure size 432x288 with 2 Axes>"
      ]
     },
     "metadata": {
      "needs_background": "light"
     },
     "output_type": "display_data"
    },
    {
     "data": {
      "image/png": "[encoded data removed]",
      "text/plain": [
       "<Figure size 432x288 with 2 Axes>"
      ]
     },
     "metadata": {
      "needs_background": "light"
     },
     "output_type": "display_data"
    }
   ],
   "source": [
    "# Code Ref: Applied AI\n",
    "# https://scikit-learn.org/stable/modules/generated/sklearn.metrics.roc_curve.html#sklearn.metrics.roc_curve\n",
    "from sklearn.metrics import confusion_matrix\n",
    "from sklearn.metrics import roc_curve, auc, accuracy_score\n",
    "import scikitplot as splot\n",
    "\n",
    "\n",
    "cl = XGBClassifier(max_depth=5, n_estimators=250,\n",
    "                   class_weight=\"balanced\", n_jobs=-1)\n",
    "cl.fit(X_train_w, y_trainw)\n",
    "\n",
    "# roc_auc_score(y_true, y_score) the 2nd parameter should be probability estimates of the positive class\n",
    "# not the predicted outputs\n",
    "train_fpr, train_tpr, thresholds = roc_curve(\n",
    "    y_trainw, cl.predict_proba(X_train_w)[:, 1])\n",
    "\n",
    "#print( roc_curve(y_train, neigh.predict_proba(X_train_bow)[:,1]))\n",
    "test_fpr, test_tpr, thresholds = roc_curve(\n",
    "    y_testw, cl.predict_proba(X_test_w)[:, 1])\n",
    "\n",
    "# plotting the test and train auc curve - TPR v/s FPR\n",
    "plt.plot(train_fpr, train_tpr, label=\"train AUC =\" +\n",
    "         str(auc(train_fpr, train_tpr)))\n",
    "plt.plot(test_fpr, test_tpr, label=\"test AUC =\"+str(auc(test_fpr, test_tpr)))\n",
    "plt.legend()\n",
    "plt.xlabel(\"FPR\")\n",
    "plt.ylabel(\"TPR\")\n",
    "plt.title(\"ERROR PLOTS\")\n",
    "plt.show()\n",
    "\n",
    "\n",
    "print(\"Train confusion matrix\")\n",
    "splot.metrics.plot_confusion_matrix(y_trainw, cl.predict(X_train_w))\n",
    "\n",
    "print(\"Test confusion matrix\")\n",
    "splot.metrics.plot_confusion_matrix(y_testw, cl.predict(X_test_w))"
   ]
  },
  {
   "cell_type": "markdown",
   "metadata": {
    "colab_type": "text",
    "id": "XchPt9RDLs4R"
   },
   "source": [
    "### [5.2.4] Applying XGBOOST on TFIDF W2V,<font color='red'> SET 4</font>"
   ]
  },
  {
   "cell_type": "markdown",
   "metadata": {},
   "source": [
    "#### Train - Test split and Vectorisation"
   ]
  },
  {
   "cell_type": "code",
   "execution_count": 112,
   "metadata": {
    "ExecuteTime": {
     "end_time": "2019-07-03T17:37:19.737960Z",
     "start_time": "2019-07-03T17:37:19.512950Z"
    },
    "colab": {},
    "colab_type": "code",
    "id": "r6Rjjal3Ls4R"
   },
   "outputs": [],
   "source": [
    "# Splitting data as train and test set to fit our model and to calculate the performance of the model\n",
    "from sklearn.model_selection import train_test_split\n",
    "from sklearn import preprocessing\n",
    "tfidf_sent_vectors_t = preprocessing.normalize(tfidf_sent_vectors)\n",
    "X_train_tw, X_test_tw, y_traintw, y_testtw = train_test_split(\n",
    "    tfidf_sent_vectors, Y, test_size=0.2)  # this is random splitting\n",
    "\n",
    "X_train_tw = np.array(X_train_tw)\n",
    "X_test_tw = np.array(X_test_tw)"
   ]
  },
  {
   "cell_type": "markdown",
   "metadata": {},
   "source": [
    "#### Hyperparameter tuning - max_depth and n_estimators"
   ]
  },
  {
   "cell_type": "code",
   "execution_count": 81,
   "metadata": {
    "ExecuteTime": {
     "end_time": "2019-07-02T18:29:51.656396Z",
     "start_time": "2019-07-02T18:10:35.031429Z"
    }
   },
   "outputs": [
    {
     "name": "stdout",
     "output_type": "stream",
     "text": [
      "Results for CV data\n",
      "   mean_test_score  std_test_score                                 params\n",
      "0         0.897631        0.000401  {'n_estimators': 250, 'max_depth': 9}\n",
      "1         0.875697        0.000805  {'n_estimators': 500, 'max_depth': 1}\n",
      "2         0.897318        0.000537  {'n_estimators': 250, 'max_depth': 5}\n",
      "3         0.897767        0.001178  {'n_estimators': 250, 'max_depth': 7}\n",
      "4         0.891954        0.001108  {'n_estimators': 100, 'max_depth': 5}\n",
      "5         0.879772        0.000958  {'n_estimators': 100, 'max_depth': 3}\n",
      "6         0.897180        0.000436  {'n_estimators': 500, 'max_depth': 3}\n",
      "7         0.894844        0.000320  {'n_estimators': 100, 'max_depth': 9}\n",
      "8         0.899780        0.000784  {'n_estimators': 500, 'max_depth': 9}\n",
      "9         0.895553        0.000917  {'n_estimators': 100, 'max_depth': 7}\n"
     ]
    }
   ],
   "source": [
    "from xgboost import XGBClassifier\n",
    "from sklearn.model_selection import RandomizedSearchCV\n",
    "from sklearn.metrics import roc_auc_score\n",
    "import math\n",
    "\n",
    "cl = XGBClassifier(class_weight=\"balanced\")\n",
    "parameters = {'max_depth': [1, 3, 5, 7, 9],\n",
    "              'n_estimators': [50, 100, 250, 500]}\n",
    "\n",
    "# Creating an instance of GCV that performs a 3 fold cross validation by applying Linear SVC on the data\n",
    "# with roc_auc as the performance metric and taking a set of parameters in the form of alpha\n",
    "clf = RandomizedSearchCV(cl, parameters, cv=3,\n",
    "                         scoring='roc_auc', n_jobs=-1, n_iter=10)\n",
    "\n",
    "# fitting with train data\n",
    "clf.fit(X_train_tw, y_traintw)\n",
    "\n",
    "# observing the results- mean auc score, std deviation and the alpha values\n",
    "print(\"Results for CV data\")\n",
    "print(pd.DataFrame(clf.cv_results_)[\n",
    "      ['mean_test_score', 'std_test_score', 'params']])"
   ]
  },
  {
   "cell_type": "markdown",
   "metadata": {},
   "source": [
    "#### Creating a heatmap\n",
    "#Which helps us to undertand how a quantity is affected by the combination of two other quantites in every possible way.\n"
   ]
  },
  {
   "cell_type": "code",
   "execution_count": 83,
   "metadata": {
    "ExecuteTime": {
     "end_time": "2019-07-02T18:29:51.844924Z",
     "start_time": "2019-07-02T18:29:51.666370Z"
    }
   },
   "outputs": [
    {
     "data": {
      "text/plain": [
       "<matplotlib.axes._subplots.AxesSubplot at 0x10ed6435c18>"
      ]
     },
     "execution_count": 83,
     "metadata": {},
     "output_type": "execute_result"
    },
    {
     "data": {
      "image/png": "[encoded data removed]",
      "text/plain": [
       "<Figure size 504x504 with 2 Axes>"
      ]
     },
     "metadata": {
      "needs_background": "light"
     },
     "output_type": "display_data"
    }
   ],
   "source": [
    "cd = pd.DataFrame(clf.cv_results_)[\n",
    "    ['mean_test_score', 'std_test_score', 'params']]\n",
    "\n",
    "\n",
    "# Splitting dictionary in the pandas column into seperate columns\n",
    "pt = pd.concat([cd.drop(['params'], axis=1),\n",
    "                cd[\"params\"].apply(pd.Series)], axis=1)\n",
    "\n",
    "# Creating a heat map\n",
    "# A pivot table to feed the data to the heat map\n",
    "pivot_tab = pt.pivot(\"n_estimators\", \"max_depth\", \"mean_test_score\")\n",
    "plt.figure(figsize=(7, 7))\n",
    "plt.xlabel(\"max_depth\")\n",
    "plt.ylabel(\"n_estimators\")\n",
    "plt.title(\"Heat map to see how auc changes with max depth and n_estimators\")\n",
    "sns.heatmap(pivot_tab, annot=True)"
   ]
  },
  {
   "cell_type": "markdown",
   "metadata": {
    "ExecuteTime": {
     "end_time": "2019-07-03T12:28:33.824976Z",
     "start_time": "2019-07-03T12:28:33.819940Z"
    }
   },
   "source": [
    "#### Observation\n",
    "1. The AUC is max for depth = 9 and n_estimators = 500. But model overfitted on our train data for thes values.\n",
    "2. Let's choose some optimal values to train our model so that it doesn't overfit."
   ]
  },
  {
   "cell_type": "markdown",
   "metadata": {},
   "source": [
    "#### Training our model with max_depth = 5 and n_estimators = 200"
   ]
  },
  {
   "cell_type": "code",
   "execution_count": 113,
   "metadata": {
    "ExecuteTime": {
     "end_time": "2019-07-03T17:43:28.492552Z",
     "start_time": "2019-07-03T17:42:00.937888Z"
    }
   },
   "outputs": [
    {
     "data": {
      "image/png": "[encoded data removed]",
      "text/plain": [
       "<Figure size 432x288 with 1 Axes>"
      ]
     },
     "metadata": {
      "needs_background": "light"
     },
     "output_type": "display_data"
    },
    {
     "name": "stdout",
     "output_type": "stream",
     "text": [
      "Train confusion matrix\n",
      "Test confusion matrix\n"
     ]
    },
    {
     "data": {
      "text/plain": [
       "<matplotlib.axes._subplots.AxesSubplot at 0x10ed2019b70>"
      ]
     },
     "execution_count": 113,
     "metadata": {},
     "output_type": "execute_result"
    },
    {
     "data": {
      "image/png": "[encoded data removed]",
      "text/plain": [
       "<Figure size 432x288 with 2 Axes>"
      ]
     },
     "metadata": {
      "needs_background": "light"
     },
     "output_type": "display_data"
    },
    {
     "data": {
      "image/png": "[encoded data removed]",
      "text/plain": [
       "<Figure size 432x288 with 2 Axes>"
      ]
     },
     "metadata": {
      "needs_background": "light"
     },
     "output_type": "display_data"
    }
   ],
   "source": [
    "# Code Ref: Applied AI\n",
    "# https://scikit-learn.org/stable/modules/generated/sklearn.metrics.roc_curve.html#sklearn.metrics.roc_curve\n",
    "from sklearn.metrics import confusion_matrix\n",
    "from sklearn.metrics import roc_curve, auc, accuracy_score\n",
    "import scikitplot as splot\n",
    "\n",
    "\n",
    "cl = XGBClassifier(max_depth=5, n_estimators=200,\n",
    "                   class_weight=\"balanced\", n_jobs=-1)\n",
    "cl.fit(X_train_tw, y_traintw)\n",
    "\n",
    "# roc_auc_score(y_true, y_score) the 2nd parameter should be probability estimates of the positive class\n",
    "# not the predicted outputs\n",
    "train_fpr, train_tpr, thresholds = roc_curve(\n",
    "    y_traintw, cl.predict_proba(X_train_tw)[:, 1])\n",
    "\n",
    "#print( roc_curve(y_train, neigh.predict_proba(X_train_bow)[:,1]))\n",
    "test_fpr, test_tpr, thresholds = roc_curve(\n",
    "    y_testtw, cl.predict_proba(X_test_tw)[:, 1])\n",
    "\n",
    "# plotting the test and train auc curve - TPR v/s FPR\n",
    "plt.plot(train_fpr, train_tpr, label=\"train AUC =\" +\n",
    "         str(auc(train_fpr, train_tpr)))\n",
    "plt.plot(test_fpr, test_tpr, label=\"test AUC =\"+str(auc(test_fpr, test_tpr)))\n",
    "plt.legend()\n",
    "plt.xlabel(\"FPR\")\n",
    "plt.ylabel(\"TPR\")\n",
    "plt.title(\"ERROR PLOTS\")\n",
    "plt.show()\n",
    "\n",
    "\n",
    "print(\"Train confusion matrix\")\n",
    "splot.metrics.plot_confusion_matrix(y_traintw, cl.predict(X_train_tw))\n",
    "\n",
    "print(\"Test confusion matrix\")\n",
    "splot.metrics.plot_confusion_matrix(y_testtw, cl.predict(X_test_tw))"
   ]
  },
  {
   "cell_type": "markdown",
   "metadata": {
    "colab_type": "text",
    "id": "AMpRCS_sLs4T"
   },
   "source": [
    "# [6] Conclusions"
   ]
  },
  {
   "cell_type": "code",
   "execution_count": 2,
   "metadata": {
    "ExecuteTime": {
     "end_time": "2019-07-04T04:19:14.982773Z",
     "start_time": "2019-07-04T04:19:14.969356Z"
    },
    "colab": {},
    "colab_type": "code",
    "id": "kMBho-LiLs4T"
   },
   "outputs": [
    {
     "name": "stdout",
     "output_type": "stream",
     "text": [
      "+------------+---------------+-----------+--------------+-----------+\n",
      "| Vectoriser |     Model     | max_depth | n_estimators | AUC Score |\n",
      "+------------+---------------+-----------+--------------+-----------+\n",
      "|    BOW     | Random Forest |     10    |     100      |    0.9    |\n",
      "|   TFIDF    | Random Forest |     10    |     250      |    0.9    |\n",
      "|  Avg W2V   | Random Forest |     10    |     250      |    0.89   |\n",
      "| Tf idf W2V | Random Forest |     10    |     250      |    0.87   |\n",
      "|    BOW     |    XGboost    |     5     |     250      |    0.94   |\n",
      "|   TFIDF    |    XGboost    |     5     |     250      |    0.93   |\n",
      "|  Avg W2V   |    XGboost    |     5     |     250      |    0.92   |\n",
      "| Tf idf W2V |    XGboost    |     5     |     200      |    0.9    |\n",
      "+------------+---------------+-----------+--------------+-----------+\n"
     ]
    }
   ],
   "source": [
    "from prettytable import PrettyTable\n",
    "\n",
    "x = PrettyTable()\n",
    "\n",
    "x.field_names = [\"Vectoriser\", \"Model\",\n",
    "                 \"max_depth\", \"n_estimators\", \"AUC Score\"]\n",
    "\n",
    "x.add_row([\"BOW\", \"Random Forest\", 10, 100, 0.90])\n",
    "x.add_row([\"TFIDF\", \"Random Forest\", 10, 250, 0.9])\n",
    "x.add_row([\"Avg W2V\", \"Random Forest\", 10, 250, 0.89])\n",
    "x.add_row([\"Tf idf W2V\", \"Random Forest\", 10, 250, 0.87])\n",
    "x.add_row([\"BOW\", \"XGboost\", 5, 250, 0.94])\n",
    "x.add_row([\"TFIDF\", \"XGboost\", 5, 250, 0.93])\n",
    "x.add_row([\"Avg W2V\", \"XGboost\", 5, 250, 0.92])\n",
    "x.add_row([\"Tf idf W2V\", \"XGboost\", 5, 200, 0.90])\n",
    "print(x)"
   ]
  },
  {
   "cell_type": "markdown",
   "metadata": {},
   "source": [
    "### Conclusion\n",
    "1. As the number of base models and max_depth was increased in the training stage for Gradient Boosted Decision Trees using XGBoost, model started to overfit on data. So I had to choose optimal number of Base models and max_depth to prevent overfitting.\n",
    "2. For Random Forests as the number of base models increased model started to underfit because bagging reduces variance and as the max_depth was incresed model started to overfit.So I had to choose optimal number of Base models and max_depth to prevent overfitting and underfitting."
   ]
  },
  {
   "cell_type": "code",
   "execution_count": null,
   "metadata": {},
   "outputs": [],
   "source": []
  }
 ],
 "metadata": {
  "colab": {
   "collapsed_sections": [
    "1zx3OJ8aLs3L",
    "cINi_W06Ls3q",
    "l3EIrSjsLs3t",
    "qD7Bjt85Ls3w",
    "QGccvBKTLs3y",
    "-NM5E-glLs34",
    "TZ7mLBDgLs35",
    "tzS18bQ3Ls37",
    "aPYIWlGxLs4A",
    "wiXbhUV9Ls4B",
    "bwf2SbLSLs4D",
    "o0qHcTh5Ls4E",
    "HjwJEpiBLs4G",
    "L0c7yH-fLs4H",
    "SHr5r9HzLs4J",
    "SIn8pwLdLs4L",
    "8YoGGV7hLs4L",
    "u5_lHeZuLs4N",
    "3b6-rEyILs4O",
    "XchPt9RDLs4R"
   ],
   "name": "09 Amazon Fine Food Reviews Analysis_RF.ipynb",
   "provenance": [],
   "version": "0.3.2"
  },
  "kernelspec": {
   "display_name": "Python 3",
   "language": "python",
   "name": "python3"
  },
  "language_info": {
   "codemirror_mode": {
    "name": "ipython",
    "version": 3
   },
   "file_extension": ".py",
   "mimetype": "text/x-python",
   "name": "python",
   "nbconvert_exporter": "python",
   "pygments_lexer": "ipython3",
   "version": "3.7.3"
  },
  "toc": {
   "base_numbering": 1,
   "nav_menu": {},
   "number_sections": true,
   "sideBar": true,
   "skip_h1_title": false,
   "title_cell": "Table of Contents",
   "title_sidebar": "Contents",
   "toc_cell": false,
   "toc_position": {
    "height": "calc(100% - 180px)",
    "left": "10px",
    "top": "150px",
    "width": "279.273px"
   },
   "toc_section_display": true,
   "toc_window_display": false
  },
  "varInspector": {
   "cols": {
    "lenName": 16,
    "lenType": 16,
    "lenVar": 40
   },
   "kernels_config": {
    "python": {
     "delete_cmd_postfix": "",
     "delete_cmd_prefix": "del ",
     "library": "var_list.py",
     "varRefreshCmd": "print(var_dic_list())"
    },
    "r": {
     "delete_cmd_postfix": ") ",
     "delete_cmd_prefix": "rm(",
     "library": "var_list.r",
     "varRefreshCmd": "cat(var_dic_list()) "
    }
   },
   "types_to_exclude": [
    "module",
    "function",
    "builtin_function_or_method",
    "instance",
    "_Feature"
   ],
   "window_display": false
  }
 },
 "nbformat": 4,
 "nbformat_minor": 1
}
